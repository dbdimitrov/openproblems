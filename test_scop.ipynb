{
 "cells": [
  {
   "cell_type": "code",
   "execution_count": null,
   "id": "4f2417c1",
   "metadata": {},
   "outputs": [],
   "source": [
    "import scanpy as sc\n",
    "import numpy as np"
   ]
  },
  {
   "cell_type": "code",
   "execution_count": null,
   "id": "58f23115",
   "metadata": {},
   "outputs": [],
   "source": [
    "import os"
   ]
  },
  {
   "cell_type": "code",
   "execution_count": null,
   "id": "6a1df129-1df9-4fc8-9363-9c86ac1f9b14",
   "metadata": {},
   "outputs": [],
   "source": [
    "os.environ['R_HOME'] = '/home/dbdimitrov/anaconda3/envs/liana4.1/lib/R'"
   ]
  },
  {
   "cell_type": "code",
   "execution_count": null,
   "id": "d057bde8-da41-4b92-8344-f071c8cee5a0",
   "metadata": {},
   "outputs": [],
   "source": []
  },
  {
   "cell_type": "code",
   "execution_count": null,
   "id": "128e547c",
   "metadata": {},
   "outputs": [],
   "source": [
    "import rpy2\n",
    "import rpy2.robjects as robjects"
   ]
  },
  {
   "cell_type": "code",
   "execution_count": null,
   "id": "86ed8a82",
   "metadata": {},
   "outputs": [],
   "source": [
    "import anndata2ri\n",
    "from rpy2.robjects import r\n",
    "from rpy2.robjects.conversion import localconverter"
   ]
  },
  {
   "cell_type": "code",
   "execution_count": null,
   "id": "a355f853",
   "metadata": {},
   "outputs": [],
   "source": [
    "from rpy2.robjects.packages import importr, data"
   ]
  },
  {
   "cell_type": "code",
   "execution_count": null,
   "id": "d98d2b76",
   "metadata": {},
   "outputs": [],
   "source": []
  },
  {
   "cell_type": "code",
   "execution_count": null,
   "id": "8559e024",
   "metadata": {},
   "outputs": [],
   "source": [
    "from openproblems.tasks.cell_cell_communication.metrics.odds_ratio import odds_ratio"
   ]
  },
  {
   "cell_type": "code",
   "execution_count": null,
   "id": "a816bbd0",
   "metadata": {},
   "outputs": [],
   "source": []
  },
  {
   "cell_type": "code",
   "execution_count": null,
   "id": "0b15ea75",
   "metadata": {},
   "outputs": [],
   "source": []
  },
  {
   "cell_type": "markdown",
   "id": "b8e392ea",
   "metadata": {},
   "source": [
    "## FILES"
   ]
  },
  {
   "cell_type": "markdown",
   "id": "ecf65970",
   "metadata": {},
   "source": [
    "#### Brain"
   ]
  },
  {
   "cell_type": "code",
   "execution_count": null,
   "id": "aa9f053e",
   "metadata": {},
   "outputs": [],
   "source": [
    "adata = sc.read(\"/media/dbdimitrov/SSDDimitrov/Repos/liana2/data/scop/allen_brain.h5ad\")"
   ]
  },
  {
   "cell_type": "code",
   "execution_count": null,
   "id": "b94f024d",
   "metadata": {},
   "outputs": [],
   "source": [
    "del adata.layers['logcounts']"
   ]
  },
  {
   "cell_type": "code",
   "execution_count": null,
   "id": "c2b6ce69",
   "metadata": {},
   "outputs": [],
   "source": [
    "adata.write_h5ad(\"/home/dbdimitrov/Downloads/allen_brain.h5ad\")"
   ]
  },
  {
   "cell_type": "code",
   "execution_count": null,
   "id": "d7b15b66",
   "metadata": {},
   "outputs": [],
   "source": [
    "adata.uns[\"bench\"]"
   ]
  },
  {
   "cell_type": "code",
   "execution_count": null,
   "id": "b3dde4d8",
   "metadata": {},
   "outputs": [],
   "source": [
    "adata"
   ]
  },
  {
   "cell_type": "code",
   "execution_count": null,
   "id": "b6c6b109",
   "metadata": {},
   "outputs": [],
   "source": [
    "sc.pp.subsample(adata, n_obs=500)\n",
    "adata = adata[:, 30000:30500].copy()"
   ]
  },
  {
   "cell_type": "code",
   "execution_count": null,
   "id": "439e2b22",
   "metadata": {},
   "outputs": [],
   "source": [
    "adata"
   ]
  },
  {
   "cell_type": "code",
   "execution_count": null,
   "id": "abf3f012",
   "metadata": {},
   "outputs": [],
   "source": []
  },
  {
   "cell_type": "markdown",
   "id": "70370559",
   "metadata": {},
   "source": [
    "#### TNBC"
   ]
  },
  {
   "cell_type": "code",
   "execution_count": null,
   "id": "f2474b02",
   "metadata": {},
   "outputs": [],
   "source": [
    "adata = sc.read(\"/media/dbdimitrov/SSDDimitrov/Repos/liana2/data/scop/brca_tnbc.h5ad\")"
   ]
  },
  {
   "cell_type": "code",
   "execution_count": null,
   "id": "e90ccde9",
   "metadata": {},
   "outputs": [],
   "source": [
    "del adata.layers['logcounts']"
   ]
  },
  {
   "cell_type": "code",
   "execution_count": null,
   "id": "562cf4a2",
   "metadata": {},
   "outputs": [],
   "source": [
    "adata"
   ]
  },
  {
   "cell_type": "code",
   "execution_count": null,
   "id": "37ba6ab5",
   "metadata": {},
   "outputs": [],
   "source": [
    "adata.write_h5ad(\"/home/dbdimitrov/Downloads/brca_tnbc.h5ad\")"
   ]
  },
  {
   "cell_type": "code",
   "execution_count": null,
   "id": "4142c0b6",
   "metadata": {},
   "outputs": [],
   "source": []
  },
  {
   "cell_type": "code",
   "execution_count": null,
   "id": "46a2f378",
   "metadata": {},
   "outputs": [],
   "source": []
  },
  {
   "cell_type": "markdown",
   "id": "87a7a587",
   "metadata": {},
   "source": [
    "### Test Data LOAD, norm!!!"
   ]
  },
  {
   "cell_type": "code",
   "execution_count": null,
   "id": "75240ce9",
   "metadata": {},
   "outputs": [],
   "source": []
  },
  {
   "cell_type": "markdown",
   "id": "a065bb5e",
   "metadata": {},
   "source": [
    "##### BRAIN"
   ]
  },
  {
   "cell_type": "code",
   "execution_count": null,
   "id": "64c833c7",
   "metadata": {},
   "outputs": [],
   "source": [
    "from openproblems.data.allen_brain_atlas import load_mouse_brain_atlas"
   ]
  },
  {
   "cell_type": "code",
   "execution_count": null,
   "id": "8f8ab3b5",
   "metadata": {},
   "outputs": [],
   "source": [
    "adata = load_mouse_brain_atlas(test=True)"
   ]
  },
  {
   "cell_type": "code",
   "execution_count": null,
   "id": "b2053121",
   "metadata": {},
   "outputs": [],
   "source": [
    "adata"
   ]
  },
  {
   "cell_type": "code",
   "execution_count": null,
   "id": "941e09c8",
   "metadata": {},
   "outputs": [],
   "source": []
  },
  {
   "cell_type": "code",
   "execution_count": null,
   "id": "a053fb39",
   "metadata": {},
   "outputs": [],
   "source": []
  },
  {
   "cell_type": "markdown",
   "id": "4abde2ea",
   "metadata": {},
   "source": [
    "##### TNBC"
   ]
  },
  {
   "cell_type": "code",
   "execution_count": null,
   "id": "f0a2d28f",
   "metadata": {},
   "outputs": [],
   "source": [
    "from openproblems.data.tnbc_wu2021 import load_tnbc_data\n",
    "adata = load_tnbc_data(test=True)\n",
    "adata"
   ]
  },
  {
   "cell_type": "code",
   "execution_count": null,
   "id": "7de706b1",
   "metadata": {},
   "outputs": [],
   "source": []
  },
  {
   "cell_type": "code",
   "execution_count": null,
   "id": "ecd21e47",
   "metadata": {},
   "outputs": [],
   "source": []
  },
  {
   "cell_type": "markdown",
   "id": "f8bc022d",
   "metadata": {},
   "source": [
    "Normalize internally in op"
   ]
  },
  {
   "cell_type": "code",
   "execution_count": null,
   "id": "10ffd3e6",
   "metadata": {},
   "outputs": [],
   "source": [
    "from openproblems.tools.normalize import log_cpm"
   ]
  },
  {
   "cell_type": "code",
   "execution_count": null,
   "id": "424593e0",
   "metadata": {},
   "outputs": [],
   "source": [
    "adata = log_cpm(adata)\n",
    "adata.layers['logcounts'] = adata.layers['log_cpm']\n",
    "del adata.layers['log_cpm']"
   ]
  },
  {
   "cell_type": "code",
   "execution_count": null,
   "id": "c259479c",
   "metadata": {},
   "outputs": [],
   "source": []
  },
  {
   "cell_type": "code",
   "execution_count": null,
   "id": "97b4c71a",
   "metadata": {},
   "outputs": [],
   "source": [
    "adata"
   ]
  },
  {
   "cell_type": "code",
   "execution_count": null,
   "id": "3af7dfc6",
   "metadata": {},
   "outputs": [],
   "source": []
  },
  {
   "cell_type": "code",
   "execution_count": null,
   "id": "1839a002",
   "metadata": {},
   "outputs": [],
   "source": []
  },
  {
   "cell_type": "code",
   "execution_count": null,
   "id": "5f5dc747",
   "metadata": {},
   "outputs": [],
   "source": []
  },
  {
   "cell_type": "markdown",
   "id": "2ef591d3",
   "metadata": {},
   "source": [
    "#### TEST method + metric!!!!"
   ]
  },
  {
   "cell_type": "markdown",
   "id": "1042b325",
   "metadata": {},
   "source": [
    "### RUN LIANA"
   ]
  },
  {
   "cell_type": "code",
   "execution_count": null,
   "id": "abb0fb6c",
   "metadata": {},
   "outputs": [],
   "source": [
    "import anndata2ri\n",
    "anndata2ri.activate()\n",
    "%load_ext rpy2.ipython"
   ]
  },
  {
   "cell_type": "code",
   "execution_count": null,
   "id": "1b91c9a6",
   "metadata": {},
   "outputs": [],
   "source": [
    "%%R -i adata -o adata\n",
    "library(tidyverse)\n",
    "library(liana)\n",
    "\n",
    "method = \"natmi\"\n",
    "\n",
    "adata@assays@data$counts <- as(as.matrix(adata@assays@data$logcounts), \"sparseMatrix\")\n",
    "adata@assays@data$logcounts <- as(as.matrix(adata@assays@data$counts), \"sparseMatrix\")\n",
    "\n",
    "\n",
    "# Here, we will convert LIANA's Consensus resource to murine symbols\n",
    "op_resource <- select_resource(\"Consensus\")[[1]]\n",
    "\n",
    "# Check if the target organism is human\n",
    "if(adata@metadata$target_organism!=9606){\n",
    "    # Generate orthologous resource\n",
    "    op_resource <- generate_homologs(op_resource = op_resource,\n",
    "                                     target_organism = adata@metadata$target_organism)\n",
    "}\n",
    "\n",
    "\n",
    "# Run LIANA\n",
    "adata@metadata$ccc = liana_wrap(adata,\n",
    "                                resource = 'custom',\n",
    "                                external_resource = op_resource,\n",
    "                                method=method,\n",
    "                                expr_prop = 0.1,\n",
    "                                idents_col = \"label\"\n",
    "                                ) %>%\n",
    "    # DEAL WITH THIS AT A PER-METHOD BASIS (in R again) ^ code above is shared for all methods\n",
    "    mutate(score := .data[[liana:::.score_specs()[[method]]@method_score]]) %>%\n",
    "    arrange(desc(score))"
   ]
  },
  {
   "cell_type": "code",
   "execution_count": null,
   "id": "2833e899",
   "metadata": {},
   "outputs": [],
   "source": [
    "check_method(adata)"
   ]
  },
  {
   "cell_type": "code",
   "execution_count": null,
   "id": "7e74bd8b",
   "metadata": {},
   "outputs": [],
   "source": []
  },
  {
   "cell_type": "code",
   "execution_count": null,
   "id": "416f3093",
   "metadata": {},
   "outputs": [],
   "source": []
  },
  {
   "cell_type": "code",
   "execution_count": null,
   "id": "e2fe75db",
   "metadata": {},
   "outputs": [],
   "source": []
  },
  {
   "cell_type": "code",
   "execution_count": null,
   "id": "1ec4c233",
   "metadata": {},
   "outputs": [],
   "source": [
    "# Merge liana's results with the truth\n",
    "gt = adata.uns[\"bench\"].merge(adata.uns[\"ccc\"], how='right')\n",
    "adata.uns[\"truth\"] = gt[gt['response'].notna()]"
   ]
  },
  {
   "cell_type": "code",
   "execution_count": null,
   "id": "67d9fb14",
   "metadata": {},
   "outputs": [],
   "source": [
    "adata.uns[\"truth\"]"
   ]
  },
  {
   "cell_type": "code",
   "execution_count": null,
   "id": "d2f68295",
   "metadata": {},
   "outputs": [],
   "source": []
  },
  {
   "cell_type": "code",
   "execution_count": null,
   "id": "1441424a",
   "metadata": {},
   "outputs": [],
   "source": [
    "odds_ratio(adata, top_n=1)"
   ]
  },
  {
   "cell_type": "code",
   "execution_count": null,
   "id": "8cb72280",
   "metadata": {},
   "outputs": [],
   "source": [
    "odds_ratio"
   ]
  },
  {
   "cell_type": "code",
   "execution_count": null,
   "id": "9c1f7dcc",
   "metadata": {},
   "outputs": [],
   "source": []
  },
  {
   "cell_type": "code",
   "execution_count": null,
   "id": "fb387c88",
   "metadata": {},
   "outputs": [],
   "source": [
    "import inspect\n",
    "lines = inspect.getsource(odds_ratio)\n",
    "print(lines)\n"
   ]
  },
  {
   "cell_type": "code",
   "execution_count": null,
   "id": "ba3cf59b",
   "metadata": {},
   "outputs": [],
   "source": [
    "\"ccc\" in adata.uns"
   ]
  },
  {
   "cell_type": "code",
   "execution_count": null,
   "id": "425849ba",
   "metadata": {},
   "outputs": [],
   "source": [
    "all( adata.uns[\"ccc\"]"
   ]
  },
  {
   "cell_type": "code",
   "execution_count": null,
   "id": "dcf71a52",
   "metadata": {},
   "outputs": [],
   "source": []
  },
  {
   "cell_type": "code",
   "execution_count": null,
   "id": "2e87b066",
   "metadata": {},
   "outputs": [],
   "source": [
    "set(adata.uns[\"ccc\"])"
   ]
  },
  {
   "cell_type": "code",
   "execution_count": null,
   "id": "378e07a6",
   "metadata": {},
   "outputs": [],
   "source": []
  },
  {
   "cell_type": "code",
   "execution_count": null,
   "id": "07026b76",
   "metadata": {},
   "outputs": [],
   "source": [
    "\"response\" in adata.uns[\"bench\"]"
   ]
  },
  {
   "cell_type": "code",
   "execution_count": null,
   "id": "13fb7908",
   "metadata": {},
   "outputs": [],
   "source": []
  },
  {
   "cell_type": "code",
   "execution_count": null,
   "id": "dded0c1e",
   "metadata": {},
   "outputs": [],
   "source": []
  },
  {
   "cell_type": "code",
   "execution_count": null,
   "id": "cb7ffb8c",
   "metadata": {},
   "outputs": [],
   "source": []
  },
  {
   "cell_type": "markdown",
   "id": "059e6415",
   "metadata": {},
   "source": [
    "### Create Sample dataset"
   ]
  },
  {
   "cell_type": "code",
   "execution_count": null,
   "id": "64c89c98",
   "metadata": {},
   "outputs": [],
   "source": [
    "from openproblems.data.sample import load_sample_data"
   ]
  },
  {
   "cell_type": "code",
   "execution_count": null,
   "id": "42564823",
   "metadata": {},
   "outputs": [],
   "source": [
    "adata = load_sample_data()"
   ]
  },
  {
   "cell_type": "markdown",
   "id": "e15a14c8",
   "metadata": {},
   "source": [
    "Modify sample data to required input"
   ]
  },
  {
   "cell_type": "code",
   "execution_count": null,
   "id": "e9791bd4",
   "metadata": {},
   "outputs": [],
   "source": []
  },
  {
   "cell_type": "code",
   "execution_count": null,
   "id": "b2ed602a",
   "metadata": {},
   "outputs": [],
   "source": []
  },
  {
   "cell_type": "code",
   "execution_count": null,
   "id": "47270693",
   "metadata": {},
   "outputs": [],
   "source": [
    "# keep only the top 10 most variable\n",
    "sc.pp.highly_variable_genes(adata, n_top_genes=10)\n",
    "adata = adata[:,adata.var['highly_variable']]\n",
    "# assign names to known interactions\n",
    "adata.var.index = ['LGALS9', 'PTPRC',\n",
    "                   'LRP1', 'CD47',\n",
    "                   'CD44', 'COL1A1',\n",
    "                   'ADAM10', 'SIRPA',\n",
    "                  'COL4A1', 'THBS2']\n",
    "# transfer label\n",
    "adata.obs[\"label\"] = adata.obs.cell_name\n",
    "\n",
    "# assign to human prior knowledge\n",
    "adata.uns[\"target_organism\"] = 9606"
   ]
  },
  {
   "cell_type": "code",
   "execution_count": null,
   "id": "737ace67",
   "metadata": {},
   "outputs": [],
   "source": []
  },
  {
   "cell_type": "code",
   "execution_count": null,
   "id": "d9b3fd08",
   "metadata": {},
   "outputs": [],
   "source": []
  },
  {
   "cell_type": "code",
   "execution_count": null,
   "id": "d5bd1411",
   "metadata": {},
   "outputs": [],
   "source": []
  },
  {
   "cell_type": "code",
   "execution_count": null,
   "id": "ec9a5c15",
   "metadata": {},
   "outputs": [],
   "source": [
    "adata = log_cpm(adata)\n",
    "adata.layers['logcounts'] = adata.layers['log_cpm']\n",
    "del adata.layers['log_cpm']"
   ]
  },
  {
   "cell_type": "code",
   "execution_count": null,
   "id": "ce32c2a3",
   "metadata": {},
   "outputs": [],
   "source": []
  },
  {
   "cell_type": "code",
   "execution_count": null,
   "id": "919bc7f0",
   "metadata": {},
   "outputs": [],
   "source": [
    "adata.uns['ccc']"
   ]
  },
  {
   "cell_type": "code",
   "execution_count": null,
   "id": "1d7189fe",
   "metadata": {},
   "outputs": [],
   "source": []
  },
  {
   "cell_type": "code",
   "execution_count": null,
   "id": "686694b1",
   "metadata": {},
   "outputs": [],
   "source": [
    "method_sample = pd.DataFrame(rng.integers(0, 100, size=(100, 4)), columns=list('ABCD'))"
   ]
  },
  {
   "cell_type": "code",
   "execution_count": null,
   "id": "370532e7",
   "metadata": {},
   "outputs": [],
   "source": [
    "import pandas as pd\n",
    "import random"
   ]
  },
  {
   "cell_type": "code",
   "execution_count": null,
   "id": "1320204a",
   "metadata": {},
   "outputs": [],
   "source": [
    "?random.sample"
   ]
  },
  {
   "cell_type": "code",
   "execution_count": null,
   "id": "1e77374f",
   "metadata": {},
   "outputs": [],
   "source": []
  },
  {
   "cell_type": "code",
   "execution_count": null,
   "id": "9fe3d191",
   "metadata": {},
   "outputs": [],
   "source": []
  },
  {
   "cell_type": "code",
   "execution_count": null,
   "id": "c351244f",
   "metadata": {},
   "outputs": [],
   "source": []
  },
  {
   "cell_type": "code",
   "execution_count": null,
   "id": "9d108947",
   "metadata": {},
   "outputs": [],
   "source": [
    "df"
   ]
  },
  {
   "cell_type": "code",
   "execution_count": null,
   "id": "42aa474b",
   "metadata": {},
   "outputs": [],
   "source": []
  },
  {
   "cell_type": "code",
   "execution_count": null,
   "id": "e6295ccc",
   "metadata": {},
   "outputs": [],
   "source": []
  },
  {
   "cell_type": "code",
   "execution_count": null,
   "id": "be987ed5",
   "metadata": {},
   "outputs": [],
   "source": []
  },
  {
   "cell_type": "code",
   "execution_count": null,
   "id": "af22bbab",
   "metadata": {},
   "outputs": [],
   "source": []
  },
  {
   "cell_type": "code",
   "execution_count": null,
   "id": "9e3ea035",
   "metadata": {},
   "outputs": [],
   "source": []
  },
  {
   "cell_type": "code",
   "execution_count": null,
   "id": "9f58ac73",
   "metadata": {},
   "outputs": [],
   "source": []
  },
  {
   "cell_type": "code",
   "execution_count": null,
   "id": "07ee70c0",
   "metadata": {},
   "outputs": [],
   "source": []
  },
  {
   "cell_type": "code",
   "execution_count": null,
   "id": "7b2bf2a5",
   "metadata": {},
   "outputs": [],
   "source": []
  },
  {
   "cell_type": "code",
   "execution_count": null,
   "id": "fb866001",
   "metadata": {},
   "outputs": [],
   "source": []
  },
  {
   "cell_type": "code",
   "execution_count": null,
   "id": "a6aba0f8",
   "metadata": {},
   "outputs": [],
   "source": []
  },
  {
   "cell_type": "code",
   "execution_count": null,
   "id": "01546cb2",
   "metadata": {},
   "outputs": [],
   "source": []
  },
  {
   "cell_type": "code",
   "execution_count": null,
   "id": "397bc9fc",
   "metadata": {},
   "outputs": [],
   "source": []
  },
  {
   "cell_type": "code",
   "execution_count": null,
   "id": "3006a92b",
   "metadata": {},
   "outputs": [],
   "source": [
    "df['NEW'] = pd.Series(pd.util.testing.rands(3), index=df.index)"
   ]
  },
  {
   "cell_type": "code",
   "execution_count": null,
   "id": "44440fda",
   "metadata": {},
   "outputs": [],
   "source": [
    "df"
   ]
  },
  {
   "cell_type": "code",
   "execution_count": null,
   "id": "aa8156bd",
   "metadata": {},
   "outputs": [],
   "source": [
    "num_rows = 10\n",
    "\n",
    "data = np.array([id_generator() for i in range(2*num_rows)]).reshape(-1,2)\n",
    "pd.DataFrame(data)\n"
   ]
  },
  {
   "cell_type": "code",
   "execution_count": null,
   "id": "cbb2f857",
   "metadata": {},
   "outputs": [],
   "source": []
  },
  {
   "cell_type": "code",
   "execution_count": null,
   "id": "dd19f73f",
   "metadata": {},
   "outputs": [],
   "source": []
  },
  {
   "cell_type": "markdown",
   "id": "a4b063ca",
   "metadata": {},
   "source": [
    "Test tests"
   ]
  },
  {
   "cell_type": "code",
   "execution_count": null,
   "id": "dec280b0",
   "metadata": {},
   "outputs": [],
   "source": [
    "from openproblems.tasks.cell_cell_communication.api import check_dataset, sample_dataset, sample_method, check_method\n",
    "adata = sample_dataset()"
   ]
  },
  {
   "cell_type": "code",
   "execution_count": null,
   "id": "74474dbd",
   "metadata": {},
   "outputs": [],
   "source": [
    "check_dataset(adata)"
   ]
  },
  {
   "cell_type": "code",
   "execution_count": null,
   "id": "a1b0e6a0",
   "metadata": {},
   "outputs": [],
   "source": []
  },
  {
   "cell_type": "code",
   "execution_count": null,
   "id": "90ad27d8",
   "metadata": {},
   "outputs": [],
   "source": [
    "adata = sample_method(adata)"
   ]
  },
  {
   "cell_type": "code",
   "execution_count": null,
   "id": "f5734d5e",
   "metadata": {},
   "outputs": [],
   "source": [
    "adata.uns[\"ccc\"]"
   ]
  },
  {
   "cell_type": "code",
   "execution_count": null,
   "id": "7e78be62",
   "metadata": {},
   "outputs": [],
   "source": []
  },
  {
   "cell_type": "code",
   "execution_count": null,
   "id": "1c2ad4f8",
   "metadata": {},
   "outputs": [],
   "source": [
    "check_method(adata)"
   ]
  },
  {
   "cell_type": "code",
   "execution_count": null,
   "id": "ef15807e",
   "metadata": {},
   "outputs": [],
   "source": []
  },
  {
   "cell_type": "code",
   "execution_count": null,
   "id": "2770ad1a",
   "metadata": {},
   "outputs": [],
   "source": []
  },
  {
   "cell_type": "code",
   "execution_count": null,
   "id": "ba3c10f0",
   "metadata": {},
   "outputs": [],
   "source": []
  },
  {
   "cell_type": "markdown",
   "id": "2a62e5a8",
   "metadata": {},
   "source": [
    "Test methods"
   ]
  },
  {
   "cell_type": "code",
   "execution_count": null,
   "id": "9f19a403",
   "metadata": {},
   "outputs": [],
   "source": [
    "from openproblems.data.tnbc_wu2021 import load_tnbc_data\n",
    "adata = load_tnbc_data(test=False)\n",
    "adata"
   ]
  },
  {
   "cell_type": "code",
   "execution_count": null,
   "id": "7f8fe9dd",
   "metadata": {},
   "outputs": [],
   "source": [
    "adata.write_h5ad(\"/home/dbdimitrov/Downloads/test.h5ad\")"
   ]
  },
  {
   "cell_type": "code",
   "execution_count": null,
   "id": "26d11ef5",
   "metadata": {},
   "outputs": [],
   "source": [
    "import scanpy as sc\n",
    "import numpy as np\n",
    "import pandas as pd"
   ]
  },
  {
   "cell_type": "code",
   "execution_count": null,
   "id": "200f891a",
   "metadata": {},
   "outputs": [],
   "source": [
    "adata = sc.read_h5ad(\"/home/dbdimitrov/Downloads/test.h5ad\")"
   ]
  },
  {
   "cell_type": "code",
   "execution_count": null,
   "id": "546f4244",
   "metadata": {},
   "outputs": [],
   "source": [
    "# adata.X = adata.layers[\"counts\"]"
   ]
  },
  {
   "cell_type": "code",
   "execution_count": null,
   "id": "2878848d",
   "metadata": {},
   "outputs": [],
   "source": [
    "adata = adata[:, 0:10000]"
   ]
  },
  {
   "cell_type": "code",
   "execution_count": null,
   "id": "f7004c77",
   "metadata": {},
   "outputs": [],
   "source": []
  },
  {
   "cell_type": "code",
   "execution_count": 1,
   "id": "e432a1cf",
   "metadata": {},
   "outputs": [],
   "source": [
    "from openproblems.tasks.cell_cell_communication.methods import liana, natmi, sca, logfc, cellphonedb, connectome"
   ]
  },
  {
   "cell_type": "code",
   "execution_count": 2,
   "id": "ee38cfe1-fe31-4607-a7eb-131001cc3eb2",
   "metadata": {},
   "outputs": [
    {
     "name": "stderr",
     "output_type": "stream",
     "text": [
      "/home/dbdimitrov/Repos/openproblems/openproblems/data/sample.py:23: FutureWarning: X.dtype being converted to np.float32 from int64. In the next version of anndata (0.9) conversion will not be automatic. Pass dtype explicitly to avoid this warning. Pass `AnnData(X, dtype=X.dtype, ...)` to get the future behavour.\n",
      "  adata = anndata.AnnData(rna_data, obs=cells, var=genes)\n",
      "/home/dbdimitrov/Repos/openproblems/openproblems/tasks/cell_cell_communication/api.py:60: ImplicitModificationWarning: Trying to modify attribute `.obs` of view, initializing view as actual.\n",
      "  adata.obs[\"label\"] = adata.obs.cell_name\n",
      "/home/dbdimitrov/anaconda3/lib/python3.8/contextlib.py:120: FutureWarning: X.dtype being converted to np.float32 from float64. In the next version of anndata (0.9) conversion will not be automatic. Pass dtype explicitly to avoid this warning. Pass `AnnData(X, dtype=X.dtype, ...)` to get the future behavour.\n",
      "  next(self.gen)\n"
     ]
    }
   ],
   "source": [
    "from openproblems.tasks.cell_cell_communication.api import check_dataset, sample_dataset, sample_method, check_method\n",
    "adata = sample_dataset()"
   ]
  },
  {
   "cell_type": "code",
   "execution_count": 3,
   "id": "0f66f45f",
   "metadata": {},
   "outputs": [
    {
     "name": "stderr",
     "output_type": "stream",
     "text": [
      "/home/dbdimitrov/.local/lib/python3.8/site-packages/scanpy/preprocessing/_normalization.py:182: UserWarning: Some cells have zero counts\n",
      "  warn(UserWarning('Some cells have zero counts'))\n",
      "/home/dbdimitrov/anaconda3/lib/python3.8/site-packages/anndata2ri/py2r.py:37: NotConvertedWarning: Conversion 'py2rpy' not defined for objects of type '<class 'NoneType'>'\n",
      "  warn(str(e), NotConvertedWarning)\n",
      "WARNING:rpy2.rinterface_lib.callbacks:R[write to console]: Loading required package: rlang\n",
      "WARNING:rpy2.rinterface_lib.callbacks:R[write to console]: Attaching package: ‘rlang’\n",
      "WARNING:rpy2.rinterface_lib.callbacks:R[write to console]: The following object is masked from ‘package:Biobase’:\n",
      "\n",
      "    exprs\n",
      "WARNING:rpy2.rinterface_lib.callbacks:R[write to console]: Attaching package: ‘dplyr’\n",
      "WARNING:rpy2.rinterface_lib.callbacks:R[write to console]: The following object is masked from ‘package:Biobase’:\n",
      "\n",
      "    combine\n",
      "WARNING:rpy2.rinterface_lib.callbacks:R[write to console]: The following objects are masked from ‘package:GenomicRanges’:\n",
      "\n",
      "    intersect, setdiff, union\n",
      "WARNING:rpy2.rinterface_lib.callbacks:R[write to console]: The following object is masked from ‘package:GenomeInfoDb’:\n",
      "\n",
      "    intersect\n",
      "WARNING:rpy2.rinterface_lib.callbacks:R[write to console]: The following objects are masked from ‘package:IRanges’:\n",
      "\n",
      "    collapse, desc, intersect, setdiff, slice, union\n",
      "WARNING:rpy2.rinterface_lib.callbacks:R[write to console]: The following object is masked from ‘package:matrixStats’:\n",
      "\n",
      "    count\n",
      "WARNING:rpy2.rinterface_lib.callbacks:R[write to console]: The following objects are masked from ‘package:S4Vectors’:\n",
      "\n",
      "    first, intersect, rename, setdiff, setequal, union\n",
      "WARNING:rpy2.rinterface_lib.callbacks:R[write to console]: The following objects are masked from ‘package:BiocGenerics’:\n",
      "\n",
      "    combine, intersect, setdiff, union\n",
      "WARNING:rpy2.rinterface_lib.callbacks:R[write to console]: The following objects are masked from ‘package:stats’:\n",
      "\n",
      "    filter, lag\n",
      "WARNING:rpy2.rinterface_lib.callbacks:R[write to console]: The following objects are masked from ‘package:base’:\n",
      "\n",
      "    intersect, setdiff, setequal, union\n"
     ]
    },
    {
     "name": "stdout",
     "output_type": "stream",
     "text": [
      "\n",
      "    WARNING: The R package \"reticulate\" only fixed recently\n",
      "    an issue that caused a segfault when used with rpy2:\n",
      "    https://github.com/rstudio/reticulate/pull/1188\n",
      "    Make sure that you use a version of that package that includes\n",
      "    the fix.\n",
      "    "
     ]
    },
    {
     "name": "stderr",
     "output_type": "stream",
     "text": [
      "WARNING:rpy2.rinterface_lib.callbacks:R[write to console]: Running LIANA with `label` as labels!\n",
      "WARNING:rpy2.rinterface_lib.callbacks:R[write to console]: LIANA: LR summary stats calculated!\n",
      "WARNING:rpy2.rinterface_lib.callbacks:R[write to console]: Now Running: Natmi\n",
      "WARNING:rpy2.rinterface_lib.callbacks:R[write to console]: Now Running: Connectome\n",
      "WARNING:rpy2.rinterface_lib.callbacks:R[write to console]: Now Running: Logfc\n",
      "WARNING:rpy2.rinterface_lib.callbacks:R[write to console]: Now Running: Sca\n",
      "WARNING:rpy2.rinterface_lib.callbacks:R[write to console]: Now Running: Cellphonedb\n",
      "WARNING:rpy2.rinterface_lib.callbacks:R[write to console]: Now aggregating natmi\n",
      "WARNING:rpy2.rinterface_lib.callbacks:R[write to console]: Now aggregating connectome\n",
      "WARNING:rpy2.rinterface_lib.callbacks:R[write to console]: Now aggregating logfc\n",
      "WARNING:rpy2.rinterface_lib.callbacks:R[write to console]: Now aggregating sca\n",
      "WARNING:rpy2.rinterface_lib.callbacks:R[write to console]: Now aggregating cellphonedb\n",
      "WARNING:rpy2.rinterface_lib.callbacks:R[write to console]: Aggregating Ranks\n"
     ]
    }
   ],
   "source": [
    "adata = liana(adata, test=True)"
   ]
  },
  {
   "cell_type": "code",
   "execution_count": 4,
   "id": "e6306cdc-092c-4d64-9354-9c1de3e31edd",
   "metadata": {},
   "outputs": [
    {
     "data": {
      "text/html": [
       "<div>\n",
       "<style scoped>\n",
       "    .dataframe tbody tr th:only-of-type {\n",
       "        vertical-align: middle;\n",
       "    }\n",
       "\n",
       "    .dataframe tbody tr th {\n",
       "        vertical-align: top;\n",
       "    }\n",
       "\n",
       "    .dataframe thead th {\n",
       "        text-align: right;\n",
       "    }\n",
       "</style>\n",
       "<table border=\"1\" class=\"dataframe\">\n",
       "  <thead>\n",
       "    <tr style=\"text-align: right;\">\n",
       "      <th></th>\n",
       "      <th>source</th>\n",
       "      <th>target</th>\n",
       "      <th>ligand</th>\n",
       "      <th>receptor</th>\n",
       "      <th>aggregate_rank</th>\n",
       "      <th>mean_rank</th>\n",
       "      <th>natmi.edge_specificity</th>\n",
       "      <th>natmi.rank</th>\n",
       "      <th>connectome.weight_sc</th>\n",
       "      <th>connectome.rank</th>\n",
       "      <th>logfc.logfc_comb</th>\n",
       "      <th>logfc.rank</th>\n",
       "      <th>sca.LRscore</th>\n",
       "      <th>sca.rank</th>\n",
       "      <th>cellphonedb.pvalue</th>\n",
       "      <th>cellphonedb.rank</th>\n",
       "      <th>score</th>\n",
       "    </tr>\n",
       "  </thead>\n",
       "  <tbody>\n",
       "    <tr>\n",
       "      <th>1</th>\n",
       "      <td>293T</td>\n",
       "      <td>mixed</td>\n",
       "      <td>LGALS9</td>\n",
       "      <td>PTPRC</td>\n",
       "      <td>0.000211</td>\n",
       "      <td>8.6</td>\n",
       "      <td>0.168237</td>\n",
       "      <td>9.0</td>\n",
       "      <td>0.324677</td>\n",
       "      <td>14.0</td>\n",
       "      <td>1.040321</td>\n",
       "      <td>12.0</td>\n",
       "      <td>0.611545</td>\n",
       "      <td>7.0</td>\n",
       "      <td>0.0</td>\n",
       "      <td>1.0</td>\n",
       "      <td>0.000211</td>\n",
       "    </tr>\n",
       "    <tr>\n",
       "      <th>2</th>\n",
       "      <td>293T</td>\n",
       "      <td>mixed</td>\n",
       "      <td>ADAM10</td>\n",
       "      <td>CD44</td>\n",
       "      <td>0.001600</td>\n",
       "      <td>10.4</td>\n",
       "      <td>0.159087</td>\n",
       "      <td>12.0</td>\n",
       "      <td>0.378205</td>\n",
       "      <td>6.0</td>\n",
       "      <td>0.819801</td>\n",
       "      <td>21.0</td>\n",
       "      <td>0.605995</td>\n",
       "      <td>12.0</td>\n",
       "      <td>0.0</td>\n",
       "      <td>1.0</td>\n",
       "      <td>0.001600</td>\n",
       "    </tr>\n",
       "    <tr>\n",
       "      <th>3</th>\n",
       "      <td>A549</td>\n",
       "      <td>mixed</td>\n",
       "      <td>CD47</td>\n",
       "      <td>SIRPA</td>\n",
       "      <td>0.001900</td>\n",
       "      <td>6.6</td>\n",
       "      <td>0.177890</td>\n",
       "      <td>5.0</td>\n",
       "      <td>0.336299</td>\n",
       "      <td>10.0</td>\n",
       "      <td>1.054802</td>\n",
       "      <td>8.0</td>\n",
       "      <td>0.608364</td>\n",
       "      <td>9.0</td>\n",
       "      <td>0.0</td>\n",
       "      <td>1.0</td>\n",
       "      <td>0.001900</td>\n",
       "    </tr>\n",
       "    <tr>\n",
       "      <th>4</th>\n",
       "      <td>A549</td>\n",
       "      <td>mixed</td>\n",
       "      <td>LGALS9</td>\n",
       "      <td>PTPRC</td>\n",
       "      <td>0.002522</td>\n",
       "      <td>9.2</td>\n",
       "      <td>0.155647</td>\n",
       "      <td>14.0</td>\n",
       "      <td>0.301937</td>\n",
       "      <td>17.0</td>\n",
       "      <td>1.365689</td>\n",
       "      <td>1.0</td>\n",
       "      <td>0.602266</td>\n",
       "      <td>13.0</td>\n",
       "      <td>0.0</td>\n",
       "      <td>1.0</td>\n",
       "      <td>0.002522</td>\n",
       "    </tr>\n",
       "    <tr>\n",
       "      <th>5</th>\n",
       "      <td>mixed</td>\n",
       "      <td>A549</td>\n",
       "      <td>COL4A1</td>\n",
       "      <td>CD47</td>\n",
       "      <td>0.002759</td>\n",
       "      <td>5.4</td>\n",
       "      <td>0.182090</td>\n",
       "      <td>4.0</td>\n",
       "      <td>0.350557</td>\n",
       "      <td>7.0</td>\n",
       "      <td>1.079703</td>\n",
       "      <td>6.0</td>\n",
       "      <td>0.608364</td>\n",
       "      <td>9.0</td>\n",
       "      <td>0.0</td>\n",
       "      <td>1.0</td>\n",
       "      <td>0.002759</td>\n",
       "    </tr>\n",
       "    <tr>\n",
       "      <th>...</th>\n",
       "      <td>...</td>\n",
       "      <td>...</td>\n",
       "      <td>...</td>\n",
       "      <td>...</td>\n",
       "      <td>...</td>\n",
       "      <td>...</td>\n",
       "      <td>...</td>\n",
       "      <td>...</td>\n",
       "      <td>...</td>\n",
       "      <td>...</td>\n",
       "      <td>...</td>\n",
       "      <td>...</td>\n",
       "      <td>...</td>\n",
       "      <td>...</td>\n",
       "      <td>...</td>\n",
       "      <td>...</td>\n",
       "      <td>...</td>\n",
       "    </tr>\n",
       "    <tr>\n",
       "      <th>75</th>\n",
       "      <td>3T3</td>\n",
       "      <td>3T3</td>\n",
       "      <td>COL4A1</td>\n",
       "      <td>CD47</td>\n",
       "      <td>1.000000</td>\n",
       "      <td>74.2</td>\n",
       "      <td>0.060116</td>\n",
       "      <td>75.0</td>\n",
       "      <td>-0.055297</td>\n",
       "      <td>83.0</td>\n",
       "      <td>-0.517685</td>\n",
       "      <td>88.0</td>\n",
       "      <td>0.471612</td>\n",
       "      <td>81.0</td>\n",
       "      <td>0.5</td>\n",
       "      <td>44.0</td>\n",
       "      <td>1.000000</td>\n",
       "    </tr>\n",
       "    <tr>\n",
       "      <th>76</th>\n",
       "      <td>A549</td>\n",
       "      <td>3T3</td>\n",
       "      <td>COL4A1</td>\n",
       "      <td>CD47</td>\n",
       "      <td>1.000000</td>\n",
       "      <td>76.8</td>\n",
       "      <td>0.058248</td>\n",
       "      <td>76.0</td>\n",
       "      <td>-0.063019</td>\n",
       "      <td>87.0</td>\n",
       "      <td>-0.551847</td>\n",
       "      <td>90.0</td>\n",
       "      <td>0.467682</td>\n",
       "      <td>87.0</td>\n",
       "      <td>0.5</td>\n",
       "      <td>44.0</td>\n",
       "      <td>1.000000</td>\n",
       "    </tr>\n",
       "    <tr>\n",
       "      <th>77</th>\n",
       "      <td>3T3</td>\n",
       "      <td>mixed</td>\n",
       "      <td>COL4A1</td>\n",
       "      <td>CD44</td>\n",
       "      <td>1.000000</td>\n",
       "      <td>42.4</td>\n",
       "      <td>0.058193</td>\n",
       "      <td>77.0</td>\n",
       "      <td>0.284761</td>\n",
       "      <td>18.0</td>\n",
       "      <td>0.204973</td>\n",
       "      <td>51.0</td>\n",
       "      <td>0.577679</td>\n",
       "      <td>22.0</td>\n",
       "      <td>0.5</td>\n",
       "      <td>44.0</td>\n",
       "      <td>1.000000</td>\n",
       "    </tr>\n",
       "    <tr>\n",
       "      <th>67</th>\n",
       "      <td>3T3</td>\n",
       "      <td>3T3</td>\n",
       "      <td>LGALS9</td>\n",
       "      <td>CD44</td>\n",
       "      <td>1.000000</td>\n",
       "      <td>62.4</td>\n",
       "      <td>0.077017</td>\n",
       "      <td>65.0</td>\n",
       "      <td>0.119192</td>\n",
       "      <td>48.0</td>\n",
       "      <td>0.087278</td>\n",
       "      <td>64.0</td>\n",
       "      <td>0.536337</td>\n",
       "      <td>48.0</td>\n",
       "      <td>1.0</td>\n",
       "      <td>87.0</td>\n",
       "      <td>1.000000</td>\n",
       "    </tr>\n",
       "    <tr>\n",
       "      <th>105</th>\n",
       "      <td>A549</td>\n",
       "      <td>A549</td>\n",
       "      <td>COL4A1</td>\n",
       "      <td>CD44</td>\n",
       "      <td>1.000000</td>\n",
       "      <td>96.4</td>\n",
       "      <td>0.020269</td>\n",
       "      <td>105.0</td>\n",
       "      <td>-0.099145</td>\n",
       "      <td>96.0</td>\n",
       "      <td>-0.838251</td>\n",
       "      <td>98.0</td>\n",
       "      <td>0.446686</td>\n",
       "      <td>96.0</td>\n",
       "      <td>1.0</td>\n",
       "      <td>87.0</td>\n",
       "      <td>1.000000</td>\n",
       "    </tr>\n",
       "  </tbody>\n",
       "</table>\n",
       "<p>105 rows × 17 columns</p>\n",
       "</div>"
      ],
      "text/plain": [
       "    source target  ligand receptor  aggregate_rank  mean_rank  \\\n",
       "1     293T  mixed  LGALS9    PTPRC        0.000211        8.6   \n",
       "2     293T  mixed  ADAM10     CD44        0.001600       10.4   \n",
       "3     A549  mixed    CD47    SIRPA        0.001900        6.6   \n",
       "4     A549  mixed  LGALS9    PTPRC        0.002522        9.2   \n",
       "5    mixed   A549  COL4A1     CD47        0.002759        5.4   \n",
       "..     ...    ...     ...      ...             ...        ...   \n",
       "75     3T3    3T3  COL4A1     CD47        1.000000       74.2   \n",
       "76    A549    3T3  COL4A1     CD47        1.000000       76.8   \n",
       "77     3T3  mixed  COL4A1     CD44        1.000000       42.4   \n",
       "67     3T3    3T3  LGALS9     CD44        1.000000       62.4   \n",
       "105   A549   A549  COL4A1     CD44        1.000000       96.4   \n",
       "\n",
       "     natmi.edge_specificity  natmi.rank  connectome.weight_sc  \\\n",
       "1                  0.168237         9.0              0.324677   \n",
       "2                  0.159087        12.0              0.378205   \n",
       "3                  0.177890         5.0              0.336299   \n",
       "4                  0.155647        14.0              0.301937   \n",
       "5                  0.182090         4.0              0.350557   \n",
       "..                      ...         ...                   ...   \n",
       "75                 0.060116        75.0             -0.055297   \n",
       "76                 0.058248        76.0             -0.063019   \n",
       "77                 0.058193        77.0              0.284761   \n",
       "67                 0.077017        65.0              0.119192   \n",
       "105                0.020269       105.0             -0.099145   \n",
       "\n",
       "     connectome.rank  logfc.logfc_comb  logfc.rank  sca.LRscore  sca.rank  \\\n",
       "1               14.0          1.040321        12.0     0.611545       7.0   \n",
       "2                6.0          0.819801        21.0     0.605995      12.0   \n",
       "3               10.0          1.054802         8.0     0.608364       9.0   \n",
       "4               17.0          1.365689         1.0     0.602266      13.0   \n",
       "5                7.0          1.079703         6.0     0.608364       9.0   \n",
       "..               ...               ...         ...          ...       ...   \n",
       "75              83.0         -0.517685        88.0     0.471612      81.0   \n",
       "76              87.0         -0.551847        90.0     0.467682      87.0   \n",
       "77              18.0          0.204973        51.0     0.577679      22.0   \n",
       "67              48.0          0.087278        64.0     0.536337      48.0   \n",
       "105             96.0         -0.838251        98.0     0.446686      96.0   \n",
       "\n",
       "     cellphonedb.pvalue  cellphonedb.rank     score  \n",
       "1                   0.0               1.0  0.000211  \n",
       "2                   0.0               1.0  0.001600  \n",
       "3                   0.0               1.0  0.001900  \n",
       "4                   0.0               1.0  0.002522  \n",
       "5                   0.0               1.0  0.002759  \n",
       "..                  ...               ...       ...  \n",
       "75                  0.5              44.0  1.000000  \n",
       "76                  0.5              44.0  1.000000  \n",
       "77                  0.5              44.0  1.000000  \n",
       "67                  1.0              87.0  1.000000  \n",
       "105                 1.0              87.0  1.000000  \n",
       "\n",
       "[105 rows x 17 columns]"
      ]
     },
     "execution_count": 4,
     "metadata": {},
     "output_type": "execute_result"
    }
   ],
   "source": [
    "adata.uns[\"ccc\"]"
   ]
  },
  {
   "cell_type": "code",
   "execution_count": 5,
   "id": "4741bc96-9250-47ae-bec0-7883929b1e9e",
   "metadata": {},
   "outputs": [
    {
     "data": {
      "text/plain": [
       "True"
      ]
     },
     "execution_count": 5,
     "metadata": {},
     "output_type": "execute_result"
    }
   ],
   "source": [
    "check_method(adata)"
   ]
  },
  {
   "cell_type": "code",
   "execution_count": null,
   "id": "1411c08e-e85f-488d-adad-4b0e97a41d7c",
   "metadata": {},
   "outputs": [],
   "source": []
  },
  {
   "cell_type": "code",
   "execution_count": 6,
   "id": "0f55e1c9-f019-426f-a817-11d96ecdbab0",
   "metadata": {},
   "outputs": [],
   "source": [
    "from openproblems.tasks.cell_cell_communication.metrics.odds_ratio import odds_ratio"
   ]
  },
  {
   "cell_type": "code",
   "execution_count": 9,
   "id": "b1833602-d359-4dd5-b8f1-f5a700b1cf94",
   "metadata": {},
   "outputs": [
    {
     "data": {
      "text/plain": [
       "0.8333333333333334"
      ]
     },
     "execution_count": 9,
     "metadata": {},
     "output_type": "execute_result"
    }
   ],
   "source": [
    "odds_ratio(adata, top_n=20)"
   ]
  },
  {
   "cell_type": "code",
   "execution_count": null,
   "id": "8da5d573-2781-4fd1-9975-54d89a19f26b",
   "metadata": {},
   "outputs": [],
   "source": []
  },
  {
   "cell_type": "code",
   "execution_count": null,
   "id": "b6b4fd08-cd85-41e7-86f5-b8cb26f30a0d",
   "metadata": {},
   "outputs": [],
   "source": [
    "adata.uns[\"bench\"]"
   ]
  },
  {
   "cell_type": "code",
   "execution_count": null,
   "id": "f965ea22-cb2d-46b1-8f09-e264d812a3e2",
   "metadata": {},
   "outputs": [],
   "source": [
    "np.sum(np.random.binomial(1, 0.2, 30))"
   ]
  },
  {
   "cell_type": "code",
   "execution_count": null,
   "id": "212c4818-1b1e-48ae-bd62-faa4483de63b",
   "metadata": {},
   "outputs": [],
   "source": []
  },
  {
   "cell_type": "code",
   "execution_count": null,
   "id": "063e6f86-b1f3-4629-bd6c-e9843c3701ab",
   "metadata": {},
   "outputs": [],
   "source": []
  },
  {
   "cell_type": "code",
   "execution_count": null,
   "id": "748332fb-f1b5-43be-8e59-d9f22a19c68f",
   "metadata": {},
   "outputs": [],
   "source": [
    "adata.uns[\"ccc\"]"
   ]
  },
  {
   "cell_type": "code",
   "execution_count": null,
   "id": "9067b6a2-90f2-44f1-822d-0642a1487d46",
   "metadata": {},
   "outputs": [],
   "source": [
    "adata"
   ]
  },
  {
   "cell_type": "code",
   "execution_count": null,
   "id": "ffc4e386-ba63-4a8e-bf77-64bff351fcc0",
   "metadata": {},
   "outputs": [],
   "source": []
  },
  {
   "cell_type": "code",
   "execution_count": null,
   "id": "80d891b1-106d-4711-adeb-ab2828344b35",
   "metadata": {},
   "outputs": [],
   "source": []
  },
  {
   "cell_type": "code",
   "execution_count": null,
   "id": "e4613909-ce5d-4a2d-8c34-ac28a9af4fd8",
   "metadata": {},
   "outputs": [],
   "source": [
    "\n",
    "from random import choices\n",
    "from random import seed"
   ]
  },
  {
   "cell_type": "code",
   "execution_count": null,
   "id": "10066dc5-a6bf-4c5e-bf94-fe88ed2b826a",
   "metadata": {},
   "outputs": [],
   "source": []
  },
  {
   "cell_type": "code",
   "execution_count": null,
   "id": "70178890-c5a7-48bc-8084-428767b81102",
   "metadata": {},
   "outputs": [],
   "source": []
  },
  {
   "cell_type": "code",
   "execution_count": null,
   "id": "714e6e50-55fe-45e6-8741-cb9bb1bf7da8",
   "metadata": {},
   "outputs": [],
   "source": []
  },
  {
   "cell_type": "code",
   "execution_count": null,
   "id": "777693da-bce0-46b5-b0a8-0e73692769ee",
   "metadata": {},
   "outputs": [],
   "source": []
  },
  {
   "cell_type": "code",
   "execution_count": null,
   "id": "d1bb904e-251f-4c16-afb3-9937c5777de0",
   "metadata": {},
   "outputs": [],
   "source": []
  },
  {
   "cell_type": "code",
   "execution_count": null,
   "id": "7a17fb1f-85f2-421e-8b5b-cf44e5d6a2d1",
   "metadata": {},
   "outputs": [],
   "source": []
  },
  {
   "cell_type": "code",
   "execution_count": null,
   "id": "38593d83-3be7-43b5-98ff-2c919150e901",
   "metadata": {},
   "outputs": [],
   "source": [
    "pd.DataFrame({'team': ['A', 'B', 'C', 'D', 'E', 'F', 'G', 'H'],\n",
    "                   'points': [18, 22, 19, 14, 14, 11, 20, 28],\n",
    "                   'assists': [5, 7, 7, 9, 12, 9, 9, 4],\n",
    "                   'rebounds': [11, 8, 10, 6, 6, 5, 9, 12]})"
   ]
  },
  {
   "cell_type": "code",
   "execution_count": null,
   "id": "a407e8b3-1712-4e03-b516-f2ad4c12b856",
   "metadata": {},
   "outputs": [],
   "source": [
    "choices(list(set(adata.obs.label)), k=20)"
   ]
  },
  {
   "cell_type": "code",
   "execution_count": null,
   "id": "950f9989-0c42-46c2-9b0a-11a60da96f19",
   "metadata": {},
   "outputs": [],
   "source": [
    "adata.uns[\"bench\"]"
   ]
  },
  {
   "cell_type": "code",
   "execution_count": null,
   "id": "47214011-6fde-435a-a4b3-4ce6ba959a52",
   "metadata": {},
   "outputs": [],
   "source": []
  },
  {
   "cell_type": "code",
   "execution_count": null,
   "id": "5ad09b49-b131-4267-84d4-a5cf4cfa9d0b",
   "metadata": {},
   "outputs": [],
   "source": []
  },
  {
   "cell_type": "code",
   "execution_count": null,
   "id": "76ad5a2e-6c42-47c6-bddc-ad778e1787d7",
   "metadata": {},
   "outputs": [],
   "source": []
  },
  {
   "cell_type": "code",
   "execution_count": null,
   "id": "ae376585",
   "metadata": {},
   "outputs": [],
   "source": [
    "adata.uns[\"ccc\"]"
   ]
  },
  {
   "cell_type": "code",
   "execution_count": null,
   "id": "0eb19f37",
   "metadata": {},
   "outputs": [],
   "source": []
  },
  {
   "cell_type": "code",
   "execution_count": null,
   "id": "2929fb99-1834-4a08-8bd6-e8f016ef4bd6",
   "metadata": {},
   "outputs": [],
   "source": [
    "adata.uns[\"bench\"]"
   ]
  },
  {
   "cell_type": "code",
   "execution_count": null,
   "id": "b7f5afb8-9407-46cb-939d-325fc886c09b",
   "metadata": {},
   "outputs": [],
   "source": []
  },
  {
   "cell_type": "code",
   "execution_count": null,
   "id": "3dbde893-44df-4d85-94d5-cb079579e37c",
   "metadata": {},
   "outputs": [],
   "source": []
  },
  {
   "cell_type": "code",
   "execution_count": null,
   "id": "4b870f16-368e-4316-9dfb-0f230788d7d3",
   "metadata": {},
   "outputs": [],
   "source": []
  },
  {
   "cell_type": "code",
   "execution_count": null,
   "id": "eb76ab06-1c5d-40ab-a1eb-6b1ac044ad3e",
   "metadata": {},
   "outputs": [],
   "source": []
  },
  {
   "cell_type": "code",
   "execution_count": null,
   "id": "70b42b66",
   "metadata": {},
   "outputs": [],
   "source": [
    "gt = adata.uns[\"bench\"].merge(adata.uns[\"ccc\"], how='right')\n",
    "gt = gt[gt['response'].notna()]"
   ]
  },
  {
   "cell_type": "code",
   "execution_count": null,
   "id": "ec710fe7",
   "metadata": {},
   "outputs": [],
   "source": [
    "np.sum(gt.response.values)"
   ]
  },
  {
   "cell_type": "code",
   "execution_count": null,
   "id": "2bb0dbe6-2692-4abe-a617-a42bd2e34b5c",
   "metadata": {},
   "outputs": [],
   "source": [
    "gt"
   ]
  },
  {
   "cell_type": "code",
   "execution_count": null,
   "id": "cadf7d9a-7795-48fe-af56-f6c0cbc5302d",
   "metadata": {},
   "outputs": [],
   "source": []
  },
  {
   "cell_type": "code",
   "execution_count": null,
   "id": "b824001a",
   "metadata": {},
   "outputs": [],
   "source": []
  },
  {
   "cell_type": "code",
   "execution_count": null,
   "id": "18a989bd",
   "metadata": {},
   "outputs": [],
   "source": [
    "sum(gt.response)"
   ]
  },
  {
   "cell_type": "code",
   "execution_count": null,
   "id": "7ae0c723",
   "metadata": {},
   "outputs": [],
   "source": [
    "adata.uns[\"ccc\"]"
   ]
  },
  {
   "cell_type": "code",
   "execution_count": null,
   "id": "2aa822d8",
   "metadata": {},
   "outputs": [],
   "source": [
    "adata.uns[\"bench\"]"
   ]
  },
  {
   "cell_type": "code",
   "execution_count": null,
   "id": "3b98379f",
   "metadata": {},
   "outputs": [],
   "source": [
    "?pd.merge(adata.uns[\"ccc\"], how='right')"
   ]
  },
  {
   "cell_type": "code",
   "execution_count": null,
   "id": "aab07558",
   "metadata": {},
   "outputs": [],
   "source": [
    "adata.uns[\"bench\"].merge(adata.uns[\"ccc\"], how='right', on=['target'])"
   ]
  },
  {
   "cell_type": "code",
   "execution_count": null,
   "id": "b4dccec8",
   "metadata": {},
   "outputs": [],
   "source": [
    "adata.uns[\"ccc\"]"
   ]
  },
  {
   "cell_type": "code",
   "execution_count": null,
   "id": "a5cc9d77",
   "metadata": {},
   "outputs": [],
   "source": []
  },
  {
   "cell_type": "code",
   "execution_count": null,
   "id": "55eddece",
   "metadata": {},
   "outputs": [],
   "source": [
    "len(gt.response)"
   ]
  },
  {
   "cell_type": "code",
   "execution_count": null,
   "id": "9ac8cde7",
   "metadata": {},
   "outputs": [],
   "source": []
  },
  {
   "cell_type": "code",
   "execution_count": null,
   "id": "ef96d5f2",
   "metadata": {},
   "outputs": [],
   "source": [
    "from openproblems.tasks.cell_cell_communication.metrics.odds_ratio import odds_ratio"
   ]
  },
  {
   "cell_type": "code",
   "execution_count": null,
   "id": "48c95538-0b60-409e-9f4d-c603dd5a410f",
   "metadata": {},
   "outputs": [],
   "source": []
  },
  {
   "cell_type": "code",
   "execution_count": null,
   "id": "26bdf8b3-9137-41b3-a351-ed4b78a29d0d",
   "metadata": {},
   "outputs": [],
   "source": []
  },
  {
   "cell_type": "code",
   "execution_count": null,
   "id": "b4324ba5-81d1-497a-8be9-7fed47c2bc86",
   "metadata": {},
   "outputs": [],
   "source": []
  },
  {
   "cell_type": "code",
   "execution_count": null,
   "id": "e2f5f688",
   "metadata": {},
   "outputs": [],
   "source": [
    "odds_ratio(adata, top_n=200)"
   ]
  },
  {
   "cell_type": "code",
   "execution_count": null,
   "id": "29ef880a-9ae9-42da-bbcb-0857da6d316c",
   "metadata": {},
   "outputs": [],
   "source": [
    "( 49/451) / (80/1050)"
   ]
  },
  {
   "cell_type": "code",
   "execution_count": null,
   "id": "0e6c59b0-ae01-4d8d-af26-03ae0b94bae1",
   "metadata": {},
   "outputs": [],
   "source": []
  },
  {
   "cell_type": "code",
   "execution_count": null,
   "id": "3e813922-1db2-4595-81aa-8d296e82b2a9",
   "metadata": {},
   "outputs": [],
   "source": [
    "import scipy.stats as stats"
   ]
  },
  {
   "cell_type": "code",
   "execution_count": null,
   "id": "07d2c784-e14a-4c0e-bb0b-8e66e3ad6137",
   "metadata": {},
   "outputs": [],
   "source": [
    "# Join benchmark (assumed truth) and ccc results\n",
    "# Get /w ccc_results and a response [0, 1] column\n",
    "gt = adata.uns[\"bench\"].merge(adata.uns[\"ccc\"], how=\"right\")\n",
    "gt = gt[gt[\"response\"].notna()]"
   ]
  },
  {
   "cell_type": "code",
   "execution_count": null,
   "id": "be4da600-08ba-4c86-be7d-331aa7e33fa5",
   "metadata": {},
   "outputs": [],
   "source": [
    "gt"
   ]
  },
  {
   "cell_type": "code",
   "execution_count": null,
   "id": "4ff8f13d-6964-42e3-956b-8b361138347d",
   "metadata": {},
   "outputs": [],
   "source": [
    "top_n = 500\n",
    "# assign the top rank interactions to 1\n",
    "a = np.zeros(len(gt[\"score\"]))\n",
    "a[0:top_n] = 1\n",
    "gt.loc[:, [\"top_n\"]] = a\n",
    "\n",
    "# Shape to contingency table\n",
    "table = np.array(gt.pivot_table(index=[\"top_n\", \"response\"], aggfunc=\"size\"))\n",
    "\n",
    "# # if positive or negative class is not in top_n\n",
    "# if table.shape != (4,):\n",
    "#     return 1\n",
    "\n",
    "# Fisher ET\n",
    "oddsratio, _ = stats.fisher_exact(table.reshape(2, 2))"
   ]
  },
  {
   "cell_type": "code",
   "execution_count": null,
   "id": "8f2c6b9f-6e58-4c7e-8f51-0904fe0b079f",
   "metadata": {},
   "outputs": [],
   "source": [
    "oddsratio"
   ]
  },
  {
   "cell_type": "code",
   "execution_count": null,
   "id": "e90049b6-390c-46e5-9c36-4e78d821de7b",
   "metadata": {},
   "outputs": [],
   "source": [
    "table"
   ]
  },
  {
   "cell_type": "code",
   "execution_count": null,
   "id": "3b12f0cd-ff11-4a78-bf29-bd1c10a7b622",
   "metadata": {},
   "outputs": [],
   "source": [
    "gt"
   ]
  },
  {
   "cell_type": "code",
   "execution_count": null,
   "id": "6158ef90-27b2-488f-93ad-2354735d0956",
   "metadata": {},
   "outputs": [],
   "source": []
  },
  {
   "cell_type": "code",
   "execution_count": null,
   "id": "8b9fcfb3-3d84-4f4e-9497-ec2e96dd25ad",
   "metadata": {},
   "outputs": [],
   "source": []
  },
  {
   "cell_type": "code",
   "execution_count": null,
   "id": "7a4f4f43-b01a-44a0-be91-88842a576829",
   "metadata": {},
   "outputs": [],
   "source": [
    "np.sum(gt.response)"
   ]
  },
  {
   "cell_type": "code",
   "execution_count": null,
   "id": "2b431071-e771-4526-b0a2-93f1289fb4b5",
   "metadata": {},
   "outputs": [],
   "source": [
    "sum(gt.head(500).response)"
   ]
  },
  {
   "cell_type": "code",
   "execution_count": null,
   "id": "ab04dd69-333a-44bc-aadc-eccef8469b23",
   "metadata": {},
   "outputs": [],
   "source": []
  },
  {
   "cell_type": "code",
   "execution_count": null,
   "id": "dae4b023-489c-4ea5-b0e2-e91171beb4d7",
   "metadata": {},
   "outputs": [],
   "source": []
  },
  {
   "cell_type": "code",
   "execution_count": null,
   "id": "60ad3974-1728-474f-961d-ce9340d82ed8",
   "metadata": {},
   "outputs": [],
   "source": [
    "gt"
   ]
  },
  {
   "cell_type": "code",
   "execution_count": null,
   "id": "42241c3b-809d-4e2e-a7d0-b6fca20b4358",
   "metadata": {},
   "outputs": [],
   "source": []
  },
  {
   "cell_type": "code",
   "execution_count": null,
   "id": "b16dc586-8c29-4fd8-9f19-ada2ffa147bd",
   "metadata": {},
   "outputs": [],
   "source": []
  },
  {
   "cell_type": "code",
   "execution_count": null,
   "id": "1465a7cc",
   "metadata": {},
   "outputs": [],
   "source": []
  },
  {
   "cell_type": "code",
   "execution_count": null,
   "id": "068620d0",
   "metadata": {},
   "outputs": [],
   "source": []
  }
 ],
 "metadata": {
  "kernelspec": {
   "display_name": "liana4.1",
   "language": "python",
   "name": "liana4.1"
  },
  "language_info": {
   "codemirror_mode": {
    "name": "ipython",
    "version": 3
   },
   "file_extension": ".py",
   "mimetype": "text/x-python",
   "name": "python",
   "nbconvert_exporter": "python",
   "pygments_lexer": "ipython3",
   "version": "3.8.3"
  }
 },
 "nbformat": 4,
 "nbformat_minor": 5
}
