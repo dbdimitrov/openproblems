{
 "cells": [
  {
   "cell_type": "code",
   "execution_count": null,
   "id": "61664ea1",
   "metadata": {},
   "outputs": [],
   "source": [
    "import scanpy as sc\n",
    "import numpy as np"
   ]
  },
  {
   "cell_type": "code",
   "execution_count": null,
   "id": "29a0eff6",
   "metadata": {},
   "outputs": [],
   "source": [
    "import rpy2\n",
    "import rpy2.robjects as robjects"
   ]
  },
  {
   "cell_type": "code",
   "execution_count": null,
   "id": "0bf77a16",
   "metadata": {},
   "outputs": [],
   "source": [
    "import anndata2ri\n",
    "from rpy2.robjects import r\n",
    "from rpy2.robjects.conversion import localconverter"
   ]
  },
  {
   "cell_type": "code",
   "execution_count": null,
   "id": "ebe9a635",
   "metadata": {},
   "outputs": [],
   "source": [
    "from rpy2.robjects.packages import importr, data"
   ]
  },
  {
   "cell_type": "code",
   "execution_count": null,
   "id": "c55fdeb9",
   "metadata": {},
   "outputs": [],
   "source": []
  },
  {
   "cell_type": "code",
   "execution_count": null,
   "id": "49143a6c",
   "metadata": {},
   "outputs": [],
   "source": [
    "from openproblems.tasks.cell_cell_communication.metrics.odds_ratio import odds_ratio"
   ]
  },
  {
   "cell_type": "code",
   "execution_count": null,
   "id": "d4d52f2c",
   "metadata": {},
   "outputs": [],
   "source": []
  },
  {
   "cell_type": "code",
   "execution_count": null,
   "id": "d2bf2f40",
   "metadata": {},
   "outputs": [],
   "source": []
  },
  {
   "cell_type": "markdown",
   "id": "0f49e604",
   "metadata": {},
   "source": [
    "## FILES"
   ]
  },
  {
   "cell_type": "markdown",
   "id": "aa37f3b8",
   "metadata": {},
   "source": [
    "#### Brain"
   ]
  },
  {
   "cell_type": "code",
   "execution_count": null,
   "id": "cf78cb11",
   "metadata": {},
   "outputs": [],
   "source": [
    "adata = sc.read(\"/media/dbdimitrov/SSDDimitrov/Repos/liana2/data/scop/allen_brain.h5ad\")"
   ]
  },
  {
   "cell_type": "code",
   "execution_count": null,
   "id": "e2d78180",
   "metadata": {},
   "outputs": [],
   "source": [
    "del adata.layers['logcounts']"
   ]
  },
  {
   "cell_type": "code",
   "execution_count": null,
   "id": "98e77304",
   "metadata": {},
   "outputs": [],
   "source": [
    "adata.write_h5ad(\"/home/dbdimitrov/Downloads/allen_brain.h5ad\")"
   ]
  },
  {
   "cell_type": "code",
   "execution_count": null,
   "id": "da4b1094",
   "metadata": {},
   "outputs": [],
   "source": [
    "adata.uns[\"bench\"]"
   ]
  },
  {
   "cell_type": "code",
   "execution_count": null,
   "id": "0596d343",
   "metadata": {},
   "outputs": [],
   "source": [
    "adata"
   ]
  },
  {
   "cell_type": "code",
   "execution_count": null,
   "id": "7e2b55fd",
   "metadata": {},
   "outputs": [],
   "source": [
    "sc.pp.subsample(adata, n_obs=500)\n",
    "adata = adata[:, 30000:30500].copy()"
   ]
  },
  {
   "cell_type": "code",
   "execution_count": null,
   "id": "db08bce0",
   "metadata": {},
   "outputs": [],
   "source": [
    "adata"
   ]
  },
  {
   "cell_type": "code",
   "execution_count": null,
   "id": "5772ffa2",
   "metadata": {},
   "outputs": [],
   "source": []
  },
  {
   "cell_type": "markdown",
   "id": "3bfedbdf",
   "metadata": {},
   "source": [
    "#### TNBC"
   ]
  },
  {
   "cell_type": "code",
   "execution_count": null,
   "id": "554cb5b1",
   "metadata": {},
   "outputs": [],
   "source": [
    "adata = sc.read(\"/media/dbdimitrov/SSDDimitrov/Repos/liana2/data/scop/brca_tnbc.h5ad\")"
   ]
  },
  {
   "cell_type": "code",
   "execution_count": null,
   "id": "c38eb7b7",
   "metadata": {},
   "outputs": [],
   "source": [
    "del adata.layers['logcounts']"
   ]
  },
  {
   "cell_type": "code",
   "execution_count": null,
   "id": "f77a6b9a",
   "metadata": {},
   "outputs": [],
   "source": [
    "adata"
   ]
  },
  {
   "cell_type": "code",
   "execution_count": null,
   "id": "bc1a0383",
   "metadata": {},
   "outputs": [],
   "source": [
    "adata.write_h5ad(\"/home/dbdimitrov/Downloads/brca_tnbc.h5ad\")"
   ]
  },
  {
   "cell_type": "code",
   "execution_count": null,
   "id": "d884b1fe",
   "metadata": {},
   "outputs": [],
   "source": []
  },
  {
   "cell_type": "code",
   "execution_count": null,
   "id": "7f68e14a",
   "metadata": {},
   "outputs": [],
   "source": []
  },
  {
   "cell_type": "markdown",
   "id": "e63b3167",
   "metadata": {},
   "source": [
    "### Test Data LOAD, norm!!!"
   ]
  },
  {
   "cell_type": "code",
   "execution_count": null,
   "id": "e2039f7a",
   "metadata": {},
   "outputs": [],
   "source": []
  },
  {
   "cell_type": "markdown",
   "id": "94c92378",
   "metadata": {},
   "source": [
    "##### BRAIN"
   ]
  },
  {
   "cell_type": "code",
   "execution_count": null,
   "id": "d1340dd8",
   "metadata": {},
   "outputs": [],
   "source": [
    "from openproblems.data.allen_brain_atlas import load_mouse_brain_atlas"
   ]
  },
  {
   "cell_type": "code",
   "execution_count": null,
   "id": "bf07a997",
   "metadata": {},
   "outputs": [],
   "source": [
    "adata = load_mouse_brain_atlas(test=True)"
   ]
  },
  {
   "cell_type": "code",
   "execution_count": null,
   "id": "831afe49",
   "metadata": {},
   "outputs": [],
   "source": [
    "adata"
   ]
  },
  {
   "cell_type": "code",
   "execution_count": null,
   "id": "693e075e",
   "metadata": {},
   "outputs": [],
   "source": []
  },
  {
   "cell_type": "code",
   "execution_count": null,
   "id": "a5ea062a",
   "metadata": {},
   "outputs": [],
   "source": []
  },
  {
   "cell_type": "markdown",
   "id": "78d82cd0",
   "metadata": {},
   "source": [
    "##### TNBC"
   ]
  },
  {
   "cell_type": "code",
   "execution_count": null,
   "id": "f44ff4b3",
   "metadata": {},
   "outputs": [],
   "source": [
    "from openproblems.data.tnbc_wu2021 import load_tnbc_data\n",
    "adata = load_tnbc_data(test=True)\n",
    "adata"
   ]
  },
  {
   "cell_type": "code",
   "execution_count": null,
   "id": "29c693fb",
   "metadata": {},
   "outputs": [],
   "source": []
  },
  {
   "cell_type": "code",
   "execution_count": null,
   "id": "1a965166",
   "metadata": {},
   "outputs": [],
   "source": []
  },
  {
   "cell_type": "markdown",
   "id": "5c5001f3",
   "metadata": {},
   "source": [
    "Normalize internally in op"
   ]
  },
  {
   "cell_type": "code",
   "execution_count": null,
   "id": "a7aa2dc9",
   "metadata": {},
   "outputs": [],
   "source": [
    "from openproblems.tools.normalize import log_cpm"
   ]
  },
  {
   "cell_type": "code",
   "execution_count": null,
   "id": "567385b1",
   "metadata": {},
   "outputs": [],
   "source": [
    "adata = log_cpm(adata)\n",
    "adata.layers['logcounts'] = adata.layers['log_cpm']\n",
    "del adata.layers['log_cpm']"
   ]
  },
  {
   "cell_type": "code",
   "execution_count": null,
   "id": "fd196831",
   "metadata": {},
   "outputs": [],
   "source": []
  },
  {
   "cell_type": "code",
   "execution_count": null,
   "id": "e14b10af",
   "metadata": {},
   "outputs": [],
   "source": [
    "adata"
   ]
  },
  {
   "cell_type": "code",
   "execution_count": null,
   "id": "53ac9b78",
   "metadata": {},
   "outputs": [],
   "source": []
  },
  {
   "cell_type": "code",
   "execution_count": null,
   "id": "f567ae2a",
   "metadata": {},
   "outputs": [],
   "source": []
  },
  {
   "cell_type": "code",
   "execution_count": null,
   "id": "274c73c5",
   "metadata": {},
   "outputs": [],
   "source": []
  },
  {
   "cell_type": "markdown",
   "id": "256dc4ff",
   "metadata": {},
   "source": [
    "#### TEST method + metric!!!!"
   ]
  },
  {
   "cell_type": "markdown",
   "id": "a5730ade",
   "metadata": {},
   "source": [
    "### RUN LIANA"
   ]
  },
  {
   "cell_type": "code",
   "execution_count": null,
   "id": "e7338951",
   "metadata": {},
   "outputs": [],
   "source": [
    "import anndata2ri\n",
    "anndata2ri.activate()\n",
    "%load_ext rpy2.ipython"
   ]
  },
  {
   "cell_type": "code",
   "execution_count": null,
   "id": "312a7cc3",
   "metadata": {},
   "outputs": [],
   "source": [
    "%%R -i adata -o adata\n",
    "library(tidyverse)\n",
    "library(liana)\n",
    "\n",
    "method = \"natmi\"\n",
    "\n",
    "adata@assays@data$counts <- as(as.matrix(adata@assays@data$logcounts), \"sparseMatrix\")\n",
    "adata@assays@data$logcounts <- as(as.matrix(adata@assays@data$counts), \"sparseMatrix\")\n",
    "\n",
    "\n",
    "# Here, we will convert LIANA's Consensus resource to murine symbols\n",
    "op_resource <- select_resource(\"Consensus\")[[1]]\n",
    "\n",
    "# Check if the target organism is human\n",
    "if(adata@metadata$target_organism!=9606){\n",
    "    # Generate orthologous resource\n",
    "    op_resource <- generate_homologs(op_resource = op_resource,\n",
    "                                     target_organism = adata@metadata$target_organism)\n",
    "}\n",
    "\n",
    "\n",
    "# Run LIANA\n",
    "adata@metadata$ccc = liana_wrap(adata,\n",
    "                                resource = 'custom',\n",
    "                                external_resource = op_resource,\n",
    "                                method=method,\n",
    "                                expr_prop = 0.1,\n",
    "                                idents_col = \"label\"\n",
    "                                ) %>%\n",
    "    # DEAL WITH THIS AT A PER-METHOD BASIS (in R again) ^ code above is shared for all methods\n",
    "    mutate(score := .data[[liana:::.score_specs()[[method]]@method_score]]) %>%\n",
    "    arrange(desc(score))"
   ]
  },
  {
   "cell_type": "code",
   "execution_count": null,
   "id": "556b2858",
   "metadata": {},
   "outputs": [],
   "source": [
    "check_method(adata)"
   ]
  },
  {
   "cell_type": "code",
   "execution_count": null,
   "id": "d071bb26",
   "metadata": {},
   "outputs": [],
   "source": []
  },
  {
   "cell_type": "code",
   "execution_count": null,
   "id": "35bdf426",
   "metadata": {},
   "outputs": [],
   "source": []
  },
  {
   "cell_type": "code",
   "execution_count": null,
   "id": "9850371f",
   "metadata": {},
   "outputs": [],
   "source": []
  },
  {
   "cell_type": "code",
   "execution_count": null,
   "id": "5249ec1f",
   "metadata": {},
   "outputs": [],
   "source": [
    "# Merge liana's results with the truth\n",
    "gt = adata.uns[\"bench\"].merge(adata.uns[\"ccc\"], how='right')\n",
    "adata.uns[\"truth\"] = gt[gt['response'].notna()]"
   ]
  },
  {
   "cell_type": "code",
   "execution_count": null,
   "id": "b1248722",
   "metadata": {},
   "outputs": [],
   "source": [
    "adata.uns[\"truth\"]"
   ]
  },
  {
   "cell_type": "code",
   "execution_count": null,
   "id": "1e73cd4d",
   "metadata": {},
   "outputs": [],
   "source": []
  },
  {
   "cell_type": "code",
   "execution_count": null,
   "id": "33bd9bca",
   "metadata": {},
   "outputs": [],
   "source": [
    "odds_ratio(adata, top_n=1)"
   ]
  },
  {
   "cell_type": "code",
   "execution_count": null,
   "id": "92b822a8",
   "metadata": {},
   "outputs": [],
   "source": [
    "odds_ratio"
   ]
  },
  {
   "cell_type": "code",
   "execution_count": null,
   "id": "2817a8d9",
   "metadata": {},
   "outputs": [],
   "source": []
  },
  {
   "cell_type": "code",
   "execution_count": null,
   "id": "969d3483",
   "metadata": {},
   "outputs": [],
   "source": [
    "import inspect\n",
    "lines = inspect.getsource(odds_ratio)\n",
    "print(lines)\n"
   ]
  },
  {
   "cell_type": "code",
   "execution_count": null,
   "id": "54a23088",
   "metadata": {},
   "outputs": [],
   "source": [
    "\"ccc\" in adata.uns"
   ]
  },
  {
   "cell_type": "code",
   "execution_count": null,
   "id": "bcfd29ef",
   "metadata": {},
   "outputs": [],
   "source": [
    "all( adata.uns[\"ccc\"]"
   ]
  },
  {
   "cell_type": "code",
   "execution_count": null,
   "id": "53b54e31",
   "metadata": {},
   "outputs": [],
   "source": []
  },
  {
   "cell_type": "code",
   "execution_count": null,
   "id": "3566731d",
   "metadata": {},
   "outputs": [],
   "source": [
    "set(adata.uns[\"ccc\"])"
   ]
  },
  {
   "cell_type": "code",
   "execution_count": null,
   "id": "80fe23bf",
   "metadata": {},
   "outputs": [],
   "source": []
  },
  {
   "cell_type": "code",
   "execution_count": null,
   "id": "1c9d3195",
   "metadata": {},
   "outputs": [],
   "source": [
    "\"response\" in adata.uns[\"bench\"]"
   ]
  },
  {
   "cell_type": "code",
   "execution_count": null,
   "id": "dfae0e29",
   "metadata": {},
   "outputs": [],
   "source": []
  },
  {
   "cell_type": "code",
   "execution_count": null,
   "id": "76b0d3ef",
   "metadata": {},
   "outputs": [],
   "source": []
  },
  {
   "cell_type": "code",
   "execution_count": null,
   "id": "a33b9482",
   "metadata": {},
   "outputs": [],
   "source": []
  },
  {
   "cell_type": "markdown",
   "id": "23eb91f5",
   "metadata": {},
   "source": [
    "### Create Sample dataset"
   ]
  },
  {
   "cell_type": "code",
   "execution_count": null,
   "id": "292d9a92",
   "metadata": {},
   "outputs": [],
   "source": [
    "from openproblems.data.sample import load_sample_data"
   ]
  },
  {
   "cell_type": "code",
   "execution_count": null,
   "id": "90588bc7",
   "metadata": {},
   "outputs": [],
   "source": [
    "adata = load_sample_data()"
   ]
  },
  {
   "cell_type": "markdown",
   "id": "ad2a2539",
   "metadata": {},
   "source": [
    "Modify sample data to required input"
   ]
  },
  {
   "cell_type": "code",
   "execution_count": null,
   "id": "488e5fac",
   "metadata": {},
   "outputs": [],
   "source": []
  },
  {
   "cell_type": "code",
   "execution_count": null,
   "id": "1cc7ce0d",
   "metadata": {},
   "outputs": [],
   "source": []
  },
  {
   "cell_type": "code",
   "execution_count": null,
   "id": "a7613cc6",
   "metadata": {},
   "outputs": [],
   "source": [
    "# keep only the top 10 most variable\n",
    "sc.pp.highly_variable_genes(adata, n_top_genes=10)\n",
    "adata = adata[:,adata.var['highly_variable']]\n",
    "# assign names to known interactions\n",
    "adata.var.index = ['LGALS9', 'PTPRC',\n",
    "                   'LRP1', 'CD47',\n",
    "                   'CD44', 'COL1A1',\n",
    "                   'ADAM10', 'SIRPA',\n",
    "                  'COL4A1', 'THBS2']\n",
    "# transfer label\n",
    "adata.obs[\"label\"] = adata.obs.cell_name\n",
    "\n",
    "# assign to human prior knowledge\n",
    "adata.uns[\"target_organism\"] = 9606"
   ]
  },
  {
   "cell_type": "code",
   "execution_count": null,
   "id": "014a6816",
   "metadata": {},
   "outputs": [],
   "source": []
  },
  {
   "cell_type": "code",
   "execution_count": null,
   "id": "12f18c35",
   "metadata": {},
   "outputs": [],
   "source": []
  },
  {
   "cell_type": "code",
   "execution_count": null,
   "id": "7252c66d",
   "metadata": {},
   "outputs": [],
   "source": []
  },
  {
   "cell_type": "code",
   "execution_count": null,
   "id": "fc00141c",
   "metadata": {},
   "outputs": [],
   "source": [
    "adata = log_cpm(adata)\n",
    "adata.layers['logcounts'] = adata.layers['log_cpm']\n",
    "del adata.layers['log_cpm']"
   ]
  },
  {
   "cell_type": "code",
   "execution_count": null,
   "id": "7c6a913f",
   "metadata": {},
   "outputs": [],
   "source": []
  },
  {
   "cell_type": "code",
   "execution_count": null,
   "id": "45710860",
   "metadata": {},
   "outputs": [],
   "source": [
    "adata.uns['ccc']"
   ]
  },
  {
   "cell_type": "code",
   "execution_count": null,
   "id": "cd470fe9",
   "metadata": {},
   "outputs": [],
   "source": []
  },
  {
   "cell_type": "code",
   "execution_count": null,
   "id": "45bb1440",
   "metadata": {},
   "outputs": [],
   "source": [
    "method_sample = pd.DataFrame(rng.integers(0, 100, size=(100, 4)), columns=list('ABCD'))"
   ]
  },
  {
   "cell_type": "code",
   "execution_count": null,
   "id": "0ee8996f",
   "metadata": {},
   "outputs": [],
   "source": [
    "import pandas as pd\n",
    "import random"
   ]
  },
  {
   "cell_type": "code",
   "execution_count": null,
   "id": "77c2d226",
   "metadata": {},
   "outputs": [],
   "source": [
    "?random.sample"
   ]
  },
  {
   "cell_type": "code",
   "execution_count": null,
   "id": "9e88ce7f",
   "metadata": {},
   "outputs": [],
   "source": []
  },
  {
   "cell_type": "code",
   "execution_count": null,
   "id": "2c7c2cea",
   "metadata": {},
   "outputs": [],
   "source": []
  },
  {
   "cell_type": "code",
   "execution_count": null,
   "id": "7441424b",
   "metadata": {},
   "outputs": [],
   "source": []
  },
  {
   "cell_type": "code",
   "execution_count": null,
   "id": "a0ef7de1",
   "metadata": {},
   "outputs": [],
   "source": [
    "df"
   ]
  },
  {
   "cell_type": "code",
   "execution_count": null,
   "id": "9ee09781",
   "metadata": {},
   "outputs": [],
   "source": []
  },
  {
   "cell_type": "code",
   "execution_count": null,
   "id": "454fa772",
   "metadata": {},
   "outputs": [],
   "source": []
  },
  {
   "cell_type": "code",
   "execution_count": null,
   "id": "bfc1c08c",
   "metadata": {},
   "outputs": [],
   "source": []
  },
  {
   "cell_type": "code",
   "execution_count": null,
   "id": "7c4cb90c",
   "metadata": {},
   "outputs": [],
   "source": []
  },
  {
   "cell_type": "code",
   "execution_count": null,
   "id": "3c68eb9f",
   "metadata": {},
   "outputs": [],
   "source": []
  },
  {
   "cell_type": "code",
   "execution_count": null,
   "id": "ba0bff55",
   "metadata": {},
   "outputs": [],
   "source": []
  },
  {
   "cell_type": "code",
   "execution_count": null,
   "id": "41220701",
   "metadata": {},
   "outputs": [],
   "source": []
  },
  {
   "cell_type": "code",
   "execution_count": null,
   "id": "09018ff4",
   "metadata": {},
   "outputs": [],
   "source": []
  },
  {
   "cell_type": "code",
   "execution_count": null,
   "id": "bc1237be",
   "metadata": {},
   "outputs": [],
   "source": []
  },
  {
   "cell_type": "code",
   "execution_count": null,
   "id": "877bd6aa",
   "metadata": {},
   "outputs": [],
   "source": []
  },
  {
   "cell_type": "code",
   "execution_count": null,
   "id": "537ffc78",
   "metadata": {},
   "outputs": [],
   "source": []
  },
  {
   "cell_type": "code",
   "execution_count": null,
   "id": "71891e1e",
   "metadata": {},
   "outputs": [],
   "source": []
  },
  {
   "cell_type": "code",
   "execution_count": null,
   "id": "e9b12eaa",
   "metadata": {},
   "outputs": [],
   "source": [
    "df['NEW'] = pd.Series(pd.util.testing.rands(3), index=df.index)"
   ]
  },
  {
   "cell_type": "code",
   "execution_count": null,
   "id": "599a4dfa",
   "metadata": {},
   "outputs": [],
   "source": [
    "df"
   ]
  },
  {
   "cell_type": "code",
   "execution_count": null,
   "id": "7d340340",
   "metadata": {},
   "outputs": [],
   "source": [
    "num_rows = 10\n",
    "\n",
    "data = np.array([id_generator() for i in range(2*num_rows)]).reshape(-1,2)\n",
    "pd.DataFrame(data)\n"
   ]
  },
  {
   "cell_type": "code",
   "execution_count": null,
   "id": "3a52c849",
   "metadata": {},
   "outputs": [],
   "source": []
  },
  {
   "cell_type": "code",
   "execution_count": null,
   "id": "a73aa133",
   "metadata": {},
   "outputs": [],
   "source": []
  },
  {
   "cell_type": "markdown",
   "id": "f255cad5",
   "metadata": {},
   "source": [
    "Test tests"
   ]
  },
  {
   "cell_type": "code",
   "execution_count": null,
   "id": "c06c027e",
   "metadata": {},
   "outputs": [],
   "source": [
    "from openproblems.tasks.cell_cell_communication.api import check_dataset, sample_dataset, sample_method, check_method"
   ]
  },
  {
   "cell_type": "code",
   "execution_count": null,
   "id": "728ee443",
   "metadata": {},
   "outputs": [],
   "source": [
    "adata = sample_dataset()"
   ]
  },
  {
   "cell_type": "code",
   "execution_count": null,
   "id": "47d935d1",
   "metadata": {},
   "outputs": [],
   "source": [
    "check_dataset(adata)"
   ]
  },
  {
   "cell_type": "code",
   "execution_count": null,
   "id": "e315b38c",
   "metadata": {},
   "outputs": [],
   "source": []
  },
  {
   "cell_type": "code",
   "execution_count": null,
   "id": "ac5d56a7",
   "metadata": {},
   "outputs": [],
   "source": [
    "adata = sample_method(adata)"
   ]
  },
  {
   "cell_type": "code",
   "execution_count": null,
   "id": "ea077ea2",
   "metadata": {},
   "outputs": [],
   "source": [
    "adata.uns[\"ccc\"]"
   ]
  },
  {
   "cell_type": "code",
   "execution_count": null,
   "id": "57628ade",
   "metadata": {},
   "outputs": [],
   "source": []
  },
  {
   "cell_type": "code",
   "execution_count": null,
   "id": "e1f3e151",
   "metadata": {},
   "outputs": [],
   "source": [
    "check_method(adata)"
   ]
  },
  {
   "cell_type": "code",
   "execution_count": null,
   "id": "c337b2ea",
   "metadata": {},
   "outputs": [],
   "source": []
  },
  {
   "cell_type": "code",
   "execution_count": null,
   "id": "c39dd0b7",
   "metadata": {},
   "outputs": [],
   "source": []
  },
  {
   "cell_type": "code",
   "execution_count": null,
   "id": "28ca2271",
   "metadata": {},
   "outputs": [],
   "source": []
  },
  {
   "cell_type": "markdown",
   "id": "ce5419e0",
   "metadata": {},
   "source": [
    "Test methods"
   ]
  },
  {
   "cell_type": "code",
   "execution_count": 1,
   "id": "41e0ab16",
   "metadata": {},
   "outputs": [
    {
     "data": {
      "text/plain": [
       "AnnData object with n_obs × n_vars = 500 × 43\n",
       "    obs: 'label', 'sizeFactor', 'celltype_minor', 'n_counts'\n",
       "    var: 'n_cells'\n",
       "    uns: 'bench', 'celltype_major', 'celltype_subset', 'nCount_RNA', 'nFeature_RNA', 'orig.ident', 'percent.mito', 'subtype', 'target_organism', '_from_cache'\n",
       "    layers: 'counts'"
      ]
     },
     "execution_count": 1,
     "metadata": {},
     "output_type": "execute_result"
    }
   ],
   "source": [
    "from openproblems.data.tnbc_wu2021 import load_tnbc_data\n",
    "adata = load_tnbc_data(test=True)\n",
    "adata"
   ]
  },
  {
   "cell_type": "code",
   "execution_count": 2,
   "id": "3937ec58",
   "metadata": {},
   "outputs": [],
   "source": [
    "from openproblems.tasks.cell_cell_communication.methods import logfc, sca"
   ]
  },
  {
   "cell_type": "code",
   "execution_count": 3,
   "id": "2f1e79e3",
   "metadata": {},
   "outputs": [
    {
     "name": "stderr",
     "output_type": "stream",
     "text": [
      "/home/dbdimitrov/.local/lib/python3.8/site-packages/scanpy/preprocessing/_normalization.py:182: UserWarning: Some cells have zero counts\n",
      "  warn(UserWarning('Some cells have zero counts'))\n",
      "/home/dbdimitrov/anaconda3/lib/python3.8/site-packages/anndata2ri/py2r.py:37: NotConvertedWarning: Conversion 'py2rpy' not defined for objects of type '<class 'NoneType'>'\n",
      "  warn(str(e), NotConvertedWarning)\n",
      "WARNING:rpy2.rinterface_lib.callbacks:R[write to console]: Loading required package: rlang\n",
      "WARNING:rpy2.rinterface_lib.callbacks:R[write to console]: Attaching package: ‘rlang’\n",
      "WARNING:rpy2.rinterface_lib.callbacks:R[write to console]: The following object is masked from ‘package:Biobase’:\n",
      "\n",
      "    exprs\n",
      "WARNING:rpy2.rinterface_lib.callbacks:R[write to console]: ── \u001b[1mAttaching packages\u001b[22m ─────────────────────────────────────── tidyverse 1.3.0 ──\n",
      "WARNING:rpy2.rinterface_lib.callbacks:R[write to console]: \u001b[32m✔\u001b[39m \u001b[34mggplot2\u001b[39m 3.3.5     \u001b[32m✔\u001b[39m \u001b[34mpurrr  \u001b[39m 0.3.4\n",
      "\u001b[32m✔\u001b[39m \u001b[34mtibble \u001b[39m 3.1.2     \u001b[32m✔\u001b[39m \u001b[34mdplyr  \u001b[39m 1.0.7\n",
      "\u001b[32m✔\u001b[39m \u001b[34mtidyr  \u001b[39m 1.1.3     \u001b[32m✔\u001b[39m \u001b[34mstringr\u001b[39m 1.4.0\n",
      "\u001b[32m✔\u001b[39m \u001b[34mreadr  \u001b[39m 2.1.0     \u001b[32m✔\u001b[39m \u001b[34mforcats\u001b[39m 0.5.1\n",
      "WARNING:rpy2.rinterface_lib.callbacks:R[write to console]: ── \u001b[1mConflicts\u001b[22m ────────────────────────────────────────── tidyverse_conflicts() ──\n",
      "\u001b[31m✖\u001b[39m \u001b[34mpurrr\u001b[39m::\u001b[32m%@%()\u001b[39m         masks \u001b[34mrlang\u001b[39m::%@%()\n",
      "\u001b[31m✖\u001b[39m \u001b[34mpurrr\u001b[39m::\u001b[32mas_function()\u001b[39m masks \u001b[34mrlang\u001b[39m::as_function()\n",
      "\u001b[31m✖\u001b[39m \u001b[34mdplyr\u001b[39m::\u001b[32mcollapse()\u001b[39m    masks \u001b[34mIRanges\u001b[39m::collapse()\n",
      "\u001b[31m✖\u001b[39m \u001b[34mdplyr\u001b[39m::\u001b[32mcombine()\u001b[39m     masks \u001b[34mBiobase\u001b[39m::combine(), \u001b[34mBiocGenerics\u001b[39m::combine()\n",
      "\u001b[31m✖\u001b[39m \u001b[34mdplyr\u001b[39m::\u001b[32mcount()\u001b[39m       masks \u001b[34mmatrixStats\u001b[39m::count()\n",
      "\u001b[31m✖\u001b[39m \u001b[34mdplyr\u001b[39m::\u001b[32mdesc()\u001b[39m        masks \u001b[34mIRanges\u001b[39m::desc()\n",
      "\u001b[31m✖\u001b[39m \u001b[34mtidyr\u001b[39m::\u001b[32mexpand()\u001b[39m      masks \u001b[34mMatrix\u001b[39m::expand(), \u001b[34mS4Vectors\u001b[39m::expand()\n",
      "\u001b[31m✖\u001b[39m \u001b[34mrlang\u001b[39m::\u001b[32mexprs()\u001b[39m       masks \u001b[34mBiobase\u001b[39m::exprs()\n",
      "\u001b[31m✖\u001b[39m \u001b[34mdplyr\u001b[39m::\u001b[32mfilter()\u001b[39m      masks \u001b[34mstats\u001b[39m::filter()\n",
      "\u001b[31m✖\u001b[39m \u001b[34mdplyr\u001b[39m::\u001b[32mfirst()\u001b[39m       masks \u001b[34mS4Vectors\u001b[39m::first()\n",
      "\u001b[31m✖\u001b[39m \u001b[34mpurrr\u001b[39m::\u001b[32mflatten()\u001b[39m     masks \u001b[34mrlang\u001b[39m::flatten()\n",
      "\u001b[31m✖\u001b[39m \u001b[34mpurrr\u001b[39m::\u001b[32mflatten_chr()\u001b[39m masks \u001b[34mrlang\u001b[39m::flatten_chr()\n",
      "\u001b[31m✖\u001b[39m \u001b[34mpurrr\u001b[39m::\u001b[32mflatten_dbl()\u001b[39m masks \u001b[34mrlang\u001b[39m::flatten_dbl()\n",
      "\u001b[31m✖\u001b[39m \u001b[34mpurrr\u001b[39m::\u001b[32mflatten_int()\u001b[39m masks \u001b[34mrlang\u001b[39m::flatten_int()\n",
      "\u001b[31m✖\u001b[39m \u001b[34mpurrr\u001b[39m::\u001b[32mflatten_lgl()\u001b[39m masks \u001b[34mrlang\u001b[39m::flatten_lgl()\n",
      "\u001b[31m✖\u001b[39m \u001b[34mpurrr\u001b[39m::\u001b[32mflatten_raw()\u001b[39m masks \u001b[34mrlang\u001b[39m::flatten_raw()\n",
      "\u001b[31m✖\u001b[39m \u001b[34mpurrr\u001b[39m::\u001b[32minvoke()\u001b[39m      masks \u001b[34mrlang\u001b[39m::invoke()\n",
      "\u001b[31m✖\u001b[39m \u001b[34mdplyr\u001b[39m::\u001b[32mlag()\u001b[39m         masks \u001b[34mstats\u001b[39m::lag()\n",
      "\u001b[31m✖\u001b[39m \u001b[34mpurrr\u001b[39m::\u001b[32mlist_along()\u001b[39m  masks \u001b[34mrlang\u001b[39m::list_along()\n",
      "\u001b[31m✖\u001b[39m \u001b[34mpurrr\u001b[39m::\u001b[32mmodify()\u001b[39m      masks \u001b[34mrlang\u001b[39m::modify()\n",
      "\u001b[31m✖\u001b[39m \u001b[34mtidyr\u001b[39m::\u001b[32mpack()\u001b[39m        masks \u001b[34mMatrix\u001b[39m::pack()\n",
      "\u001b[31m✖\u001b[39m \u001b[34mggplot2\u001b[39m::\u001b[32mPosition()\u001b[39m  masks \u001b[34mBiocGenerics\u001b[39m::Position(), \u001b[34mbase\u001b[39m::Position()\n",
      "\u001b[31m✖\u001b[39m \u001b[34mpurrr\u001b[39m::\u001b[32mprepend()\u001b[39m     masks \u001b[34mrlang\u001b[39m::prepend()\n",
      "\u001b[31m✖\u001b[39m \u001b[34mpurrr\u001b[39m::\u001b[32mreduce()\u001b[39m      masks \u001b[34mGenomicRanges\u001b[39m::reduce(), \u001b[34mIRanges\u001b[39m::reduce()\n",
      "\u001b[31m✖\u001b[39m \u001b[34mdplyr\u001b[39m::\u001b[32mrename()\u001b[39m      masks \u001b[34mS4Vectors\u001b[39m::rename()\n",
      "\u001b[31m✖\u001b[39m \u001b[34mdplyr\u001b[39m::\u001b[32mslice()\u001b[39m       masks \u001b[34mIRanges\u001b[39m::slice()\n",
      "\u001b[31m✖\u001b[39m \u001b[34mpurrr\u001b[39m::\u001b[32msplice()\u001b[39m      masks \u001b[34mrlang\u001b[39m::splice()\n",
      "\u001b[31m✖\u001b[39m \u001b[34mtidyr\u001b[39m::\u001b[32munpack()\u001b[39m      masks \u001b[34mMatrix\u001b[39m::unpack()\n",
      "WARNING:rpy2.rinterface_lib.callbacks:R[write to console]: Running LIANA with `label` as labels!\n",
      "WARNING:rpy2.rinterface_lib.callbacks:R[write to console]: LIANA: LR summary stats calculated!\n",
      "WARNING:rpy2.rinterface_lib.callbacks:R[write to console]: Now Running: Sca\n"
     ]
    }
   ],
   "source": [
    "adata = sca(adata)"
   ]
  },
  {
   "cell_type": "code",
   "execution_count": 4,
   "id": "4861fae9",
   "metadata": {},
   "outputs": [
    {
     "data": {
      "text/html": [
       "<div>\n",
       "<style scoped>\n",
       "    .dataframe tbody tr th:only-of-type {\n",
       "        vertical-align: middle;\n",
       "    }\n",
       "\n",
       "    .dataframe tbody tr th {\n",
       "        vertical-align: top;\n",
       "    }\n",
       "\n",
       "    .dataframe thead th {\n",
       "        text-align: right;\n",
       "    }\n",
       "</style>\n",
       "<table border=\"1\" class=\"dataframe\">\n",
       "  <thead>\n",
       "    <tr style=\"text-align: right;\">\n",
       "      <th></th>\n",
       "      <th>source</th>\n",
       "      <th>target</th>\n",
       "      <th>ligand.complex</th>\n",
       "      <th>ligand</th>\n",
       "      <th>receptor.complex</th>\n",
       "      <th>receptor</th>\n",
       "      <th>receptor.prop</th>\n",
       "      <th>ligand.prop</th>\n",
       "      <th>ligand.expr</th>\n",
       "      <th>receptor.expr</th>\n",
       "      <th>global_mean</th>\n",
       "      <th>LRscore</th>\n",
       "      <th>score</th>\n",
       "    </tr>\n",
       "  </thead>\n",
       "  <tbody>\n",
       "    <tr>\n",
       "      <th>1764</th>\n",
       "      <td>Cycling.Myeloid</td>\n",
       "      <td>PVL.Immature</td>\n",
       "      <td>TGFB1</td>\n",
       "      <td>TGFB1</td>\n",
       "      <td>CAV1</td>\n",
       "      <td>CAV1</td>\n",
       "      <td>1.000000</td>\n",
       "      <td>1.000000</td>\n",
       "      <td>12.716901</td>\n",
       "      <td>13.271979</td>\n",
       "      <td>1.06552</td>\n",
       "      <td>0.924200</td>\n",
       "      <td>0.924200</td>\n",
       "    </tr>\n",
       "    <tr>\n",
       "      <th>1765</th>\n",
       "      <td>Cycling.Myeloid</td>\n",
       "      <td>Mature.Luminal</td>\n",
       "      <td>TGFB1</td>\n",
       "      <td>TGFB1</td>\n",
       "      <td>ITGB1</td>\n",
       "      <td>ITGB1</td>\n",
       "      <td>1.000000</td>\n",
       "      <td>1.000000</td>\n",
       "      <td>12.716901</td>\n",
       "      <td>13.070524</td>\n",
       "      <td>1.06552</td>\n",
       "      <td>0.923663</td>\n",
       "      <td>0.923663</td>\n",
       "    </tr>\n",
       "    <tr>\n",
       "      <th>1738</th>\n",
       "      <td>Cycling.Myeloid</td>\n",
       "      <td>DCs</td>\n",
       "      <td>TGFB1</td>\n",
       "      <td>TGFB1</td>\n",
       "      <td>CXCR4</td>\n",
       "      <td>CXCR4</td>\n",
       "      <td>1.000000</td>\n",
       "      <td>1.000000</td>\n",
       "      <td>12.716901</td>\n",
       "      <td>13.006264</td>\n",
       "      <td>1.06552</td>\n",
       "      <td>0.923489</td>\n",
       "      <td>0.923489</td>\n",
       "    </tr>\n",
       "    <tr>\n",
       "      <th>1771</th>\n",
       "      <td>Cycling.Myeloid</td>\n",
       "      <td>Endothelial.CXCL12</td>\n",
       "      <td>TGFB1</td>\n",
       "      <td>TGFB1</td>\n",
       "      <td>CAV1</td>\n",
       "      <td>CAV1</td>\n",
       "      <td>1.000000</td>\n",
       "      <td>1.000000</td>\n",
       "      <td>12.716901</td>\n",
       "      <td>12.981323</td>\n",
       "      <td>1.06552</td>\n",
       "      <td>0.923421</td>\n",
       "      <td>0.923421</td>\n",
       "    </tr>\n",
       "    <tr>\n",
       "      <th>1766</th>\n",
       "      <td>Cycling.Myeloid</td>\n",
       "      <td>Mature.Luminal</td>\n",
       "      <td>TGFB1</td>\n",
       "      <td>TGFB1</td>\n",
       "      <td>CXCR4</td>\n",
       "      <td>CXCR4</td>\n",
       "      <td>1.000000</td>\n",
       "      <td>1.000000</td>\n",
       "      <td>12.716901</td>\n",
       "      <td>12.350698</td>\n",
       "      <td>1.06552</td>\n",
       "      <td>0.921641</td>\n",
       "      <td>0.921641</td>\n",
       "    </tr>\n",
       "    <tr>\n",
       "      <th>...</th>\n",
       "      <td>...</td>\n",
       "      <td>...</td>\n",
       "      <td>...</td>\n",
       "      <td>...</td>\n",
       "      <td>...</td>\n",
       "      <td>...</td>\n",
       "      <td>...</td>\n",
       "      <td>...</td>\n",
       "      <td>...</td>\n",
       "      <td>...</td>\n",
       "      <td>...</td>\n",
       "      <td>...</td>\n",
       "      <td>...</td>\n",
       "    </tr>\n",
       "    <tr>\n",
       "      <th>896</th>\n",
       "      <td>Macrophage</td>\n",
       "      <td>CAFs.MSC.iCAF.like</td>\n",
       "      <td>CXCL12</td>\n",
       "      <td>CXCL12</td>\n",
       "      <td>ITGB3</td>\n",
       "      <td>ITGB3</td>\n",
       "      <td>0.111111</td>\n",
       "      <td>0.108696</td>\n",
       "      <td>1.199687</td>\n",
       "      <td>1.279215</td>\n",
       "      <td>1.06552</td>\n",
       "      <td>0.537602</td>\n",
       "      <td>0.537602</td>\n",
       "    </tr>\n",
       "    <tr>\n",
       "      <th>486</th>\n",
       "      <td>Cancer.Basal.SC</td>\n",
       "      <td>CAFs.MSC.iCAF.like</td>\n",
       "      <td>CXCL12</td>\n",
       "      <td>CXCL12</td>\n",
       "      <td>ITGB3</td>\n",
       "      <td>ITGB3</td>\n",
       "      <td>0.111111</td>\n",
       "      <td>0.108696</td>\n",
       "      <td>1.175410</td>\n",
       "      <td>1.279215</td>\n",
       "      <td>1.06552</td>\n",
       "      <td>0.535060</td>\n",
       "      <td>0.535060</td>\n",
       "    </tr>\n",
       "    <tr>\n",
       "      <th>1376</th>\n",
       "      <td>CAFs.MSC.iCAF.like</td>\n",
       "      <td>CAFs.MSC.iCAF.like</td>\n",
       "      <td>TGFB3</td>\n",
       "      <td>TGFB3</td>\n",
       "      <td>ACVRL1</td>\n",
       "      <td>ACVRL1</td>\n",
       "      <td>0.111111</td>\n",
       "      <td>0.111111</td>\n",
       "      <td>1.207899</td>\n",
       "      <td>1.224702</td>\n",
       "      <td>1.06552</td>\n",
       "      <td>0.533034</td>\n",
       "      <td>0.533034</td>\n",
       "    </tr>\n",
       "    <tr>\n",
       "      <th>831</th>\n",
       "      <td>Macrophage</td>\n",
       "      <td>Cancer.Her2.SC</td>\n",
       "      <td>CXCL12</td>\n",
       "      <td>CXCL12</td>\n",
       "      <td>CXCR4</td>\n",
       "      <td>CXCR4</td>\n",
       "      <td>0.105263</td>\n",
       "      <td>0.108696</td>\n",
       "      <td>1.199687</td>\n",
       "      <td>1.205923</td>\n",
       "      <td>1.06552</td>\n",
       "      <td>0.530261</td>\n",
       "      <td>0.530261</td>\n",
       "    </tr>\n",
       "    <tr>\n",
       "      <th>417</th>\n",
       "      <td>Cancer.Basal.SC</td>\n",
       "      <td>Cancer.Her2.SC</td>\n",
       "      <td>CXCL12</td>\n",
       "      <td>CXCL12</td>\n",
       "      <td>CXCR4</td>\n",
       "      <td>CXCR4</td>\n",
       "      <td>0.105263</td>\n",
       "      <td>0.108696</td>\n",
       "      <td>1.175410</td>\n",
       "      <td>1.205923</td>\n",
       "      <td>1.06552</td>\n",
       "      <td>0.527714</td>\n",
       "      <td>0.527714</td>\n",
       "    </tr>\n",
       "  </tbody>\n",
       "</table>\n",
       "<p>2276 rows × 13 columns</p>\n",
       "</div>"
      ],
      "text/plain": [
       "                  source              target ligand.complex  ligand  \\\n",
       "1764     Cycling.Myeloid        PVL.Immature          TGFB1   TGFB1   \n",
       "1765     Cycling.Myeloid      Mature.Luminal          TGFB1   TGFB1   \n",
       "1738     Cycling.Myeloid                 DCs          TGFB1   TGFB1   \n",
       "1771     Cycling.Myeloid  Endothelial.CXCL12          TGFB1   TGFB1   \n",
       "1766     Cycling.Myeloid      Mature.Luminal          TGFB1   TGFB1   \n",
       "...                  ...                 ...            ...     ...   \n",
       "896           Macrophage  CAFs.MSC.iCAF.like         CXCL12  CXCL12   \n",
       "486      Cancer.Basal.SC  CAFs.MSC.iCAF.like         CXCL12  CXCL12   \n",
       "1376  CAFs.MSC.iCAF.like  CAFs.MSC.iCAF.like          TGFB3   TGFB3   \n",
       "831           Macrophage      Cancer.Her2.SC         CXCL12  CXCL12   \n",
       "417      Cancer.Basal.SC      Cancer.Her2.SC         CXCL12  CXCL12   \n",
       "\n",
       "     receptor.complex receptor  receptor.prop  ligand.prop  ligand.expr  \\\n",
       "1764             CAV1     CAV1       1.000000     1.000000    12.716901   \n",
       "1765            ITGB1    ITGB1       1.000000     1.000000    12.716901   \n",
       "1738            CXCR4    CXCR4       1.000000     1.000000    12.716901   \n",
       "1771             CAV1     CAV1       1.000000     1.000000    12.716901   \n",
       "1766            CXCR4    CXCR4       1.000000     1.000000    12.716901   \n",
       "...               ...      ...            ...          ...          ...   \n",
       "896             ITGB3    ITGB3       0.111111     0.108696     1.199687   \n",
       "486             ITGB3    ITGB3       0.111111     0.108696     1.175410   \n",
       "1376           ACVRL1   ACVRL1       0.111111     0.111111     1.207899   \n",
       "831             CXCR4    CXCR4       0.105263     0.108696     1.199687   \n",
       "417             CXCR4    CXCR4       0.105263     0.108696     1.175410   \n",
       "\n",
       "      receptor.expr  global_mean   LRscore     score  \n",
       "1764      13.271979      1.06552  0.924200  0.924200  \n",
       "1765      13.070524      1.06552  0.923663  0.923663  \n",
       "1738      13.006264      1.06552  0.923489  0.923489  \n",
       "1771      12.981323      1.06552  0.923421  0.923421  \n",
       "1766      12.350698      1.06552  0.921641  0.921641  \n",
       "...             ...          ...       ...       ...  \n",
       "896        1.279215      1.06552  0.537602  0.537602  \n",
       "486        1.279215      1.06552  0.535060  0.535060  \n",
       "1376       1.224702      1.06552  0.533034  0.533034  \n",
       "831        1.205923      1.06552  0.530261  0.530261  \n",
       "417        1.205923      1.06552  0.527714  0.527714  \n",
       "\n",
       "[2276 rows x 13 columns]"
      ]
     },
     "execution_count": 4,
     "metadata": {},
     "output_type": "execute_result"
    }
   ],
   "source": [
    "adata.uns[\"ccc\"]"
   ]
  },
  {
   "cell_type": "code",
   "execution_count": null,
   "id": "c215d4f0",
   "metadata": {},
   "outputs": [],
   "source": []
  }
 ],
 "metadata": {
  "kernelspec": {
   "display_name": "liana4.1",
   "language": "python",
   "name": "liana4.1"
  },
  "language_info": {
   "codemirror_mode": {
    "name": "ipython",
    "version": 3
   },
   "file_extension": ".py",
   "mimetype": "text/x-python",
   "name": "python",
   "nbconvert_exporter": "python",
   "pygments_lexer": "ipython3",
   "version": "3.8.3"
  }
 },
 "nbformat": 4,
 "nbformat_minor": 5
}
