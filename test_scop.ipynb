{
 "cells": [
  {
   "cell_type": "code",
   "execution_count": null,
   "id": "f4475db8",
   "metadata": {},
   "outputs": [],
   "source": [
    "import scanpy as sc\n",
    "import numpy as np"
   ]
  },
  {
   "cell_type": "code",
   "execution_count": null,
   "id": "3459c11f",
   "metadata": {},
   "outputs": [],
   "source": [
    "import rpy2\n",
    "import rpy2.robjects as robjects"
   ]
  },
  {
   "cell_type": "code",
   "execution_count": null,
   "id": "8205aebe",
   "metadata": {},
   "outputs": [],
   "source": [
    "import anndata2ri\n",
    "from rpy2.robjects import r\n",
    "from rpy2.robjects.conversion import localconverter"
   ]
  },
  {
   "cell_type": "code",
   "execution_count": null,
   "id": "1962d6be",
   "metadata": {},
   "outputs": [],
   "source": [
    "from rpy2.robjects.packages import importr, data"
   ]
  },
  {
   "cell_type": "code",
   "execution_count": null,
   "id": "043f4b7f",
   "metadata": {},
   "outputs": [],
   "source": []
  },
  {
   "cell_type": "code",
   "execution_count": null,
   "id": "151e8923",
   "metadata": {},
   "outputs": [],
   "source": [
    "from openproblems.tasks.cell_cell_communication.metrics.odds_ratio import odds_ratio"
   ]
  },
  {
   "cell_type": "code",
   "execution_count": null,
   "id": "b53a5916",
   "metadata": {},
   "outputs": [],
   "source": []
  },
  {
   "cell_type": "markdown",
   "id": "3005234d",
   "metadata": {},
   "source": [
    "#### Brain"
   ]
  },
  {
   "cell_type": "code",
   "execution_count": null,
   "id": "447616b0",
   "metadata": {},
   "outputs": [],
   "source": [
    "adata = sc.read(\"/media/dbdimitrov/SSDDimitrov/Repos/liana2/data/scop/allen_brain.h5ad\")"
   ]
  },
  {
   "cell_type": "code",
   "execution_count": null,
   "id": "f3a36de1",
   "metadata": {},
   "outputs": [],
   "source": [
    "del adata.layers['logcounts']"
   ]
  },
  {
   "cell_type": "code",
   "execution_count": null,
   "id": "1da7c022",
   "metadata": {},
   "outputs": [],
   "source": [
    "adata.write_h5ad(\"/home/dbdimitrov/Downloads/allen_brain.h5ad\")"
   ]
  },
  {
   "cell_type": "code",
   "execution_count": null,
   "id": "99cce486",
   "metadata": {},
   "outputs": [],
   "source": [
    "adata.uns[\"bench\"]"
   ]
  },
  {
   "cell_type": "code",
   "execution_count": null,
   "id": "475eec30",
   "metadata": {},
   "outputs": [],
   "source": [
    "adata"
   ]
  },
  {
   "cell_type": "code",
   "execution_count": null,
   "id": "75abc15a",
   "metadata": {},
   "outputs": [],
   "source": [
    "sc.pp.subsample(adata, n_obs=500)\n",
    "adata = adata[:, 30000:30500].copy()"
   ]
  },
  {
   "cell_type": "code",
   "execution_count": null,
   "id": "f3ca0cdd",
   "metadata": {},
   "outputs": [],
   "source": [
    "adata"
   ]
  },
  {
   "cell_type": "code",
   "execution_count": null,
   "id": "5a0583fa",
   "metadata": {},
   "outputs": [],
   "source": []
  },
  {
   "cell_type": "markdown",
   "id": "1e8e6bb0",
   "metadata": {},
   "source": [
    "#### TNBC"
   ]
  },
  {
   "cell_type": "code",
   "execution_count": null,
   "id": "60e095e8",
   "metadata": {},
   "outputs": [],
   "source": [
    "adata = sc.read(\"/media/dbdimitrov/SSDDimitrov/Repos/liana2/data/scop/brca_tnbc.h5ad\")"
   ]
  },
  {
   "cell_type": "code",
   "execution_count": null,
   "id": "581ac778",
   "metadata": {},
   "outputs": [],
   "source": [
    "del adata.layers['logcounts']"
   ]
  },
  {
   "cell_type": "code",
   "execution_count": null,
   "id": "4392a8d0",
   "metadata": {},
   "outputs": [],
   "source": [
    "adata"
   ]
  },
  {
   "cell_type": "code",
   "execution_count": null,
   "id": "8edf96e9",
   "metadata": {},
   "outputs": [],
   "source": [
    "adata.write_h5ad(\"/home/dbdimitrov/Downloads/brca_tnbc.h5ad\")"
   ]
  },
  {
   "cell_type": "code",
   "execution_count": null,
   "id": "c51f8dff",
   "metadata": {},
   "outputs": [],
   "source": []
  },
  {
   "cell_type": "code",
   "execution_count": null,
   "id": "737fd6aa",
   "metadata": {},
   "outputs": [],
   "source": []
  },
  {
   "cell_type": "markdown",
   "id": "066f9dfb",
   "metadata": {},
   "source": [
    "### Test Data LOAD, norm!!!"
   ]
  },
  {
   "cell_type": "code",
   "execution_count": null,
   "id": "0db59e9a",
   "metadata": {},
   "outputs": [],
   "source": []
  },
  {
   "cell_type": "markdown",
   "id": "0d7d4de9",
   "metadata": {},
   "source": [
    "##### BRAIN"
   ]
  },
  {
   "cell_type": "code",
   "execution_count": null,
   "id": "0f0aa751",
   "metadata": {},
   "outputs": [],
   "source": [
    "from openproblems.data.allen_brain_atlas import load_mouse_brain_atlas"
   ]
  },
  {
   "cell_type": "code",
   "execution_count": null,
   "id": "026bb61f",
   "metadata": {},
   "outputs": [],
   "source": [
    "adata = load_mouse_brain_atlas(test=False)"
   ]
  },
  {
   "cell_type": "code",
   "execution_count": null,
   "id": "5fe10503",
   "metadata": {},
   "outputs": [],
   "source": [
    "adata"
   ]
  },
  {
   "cell_type": "code",
   "execution_count": null,
   "id": "a86b4301",
   "metadata": {},
   "outputs": [],
   "source": []
  },
  {
   "cell_type": "markdown",
   "id": "6fc367e9",
   "metadata": {},
   "source": [
    "##### TNBC"
   ]
  },
  {
   "cell_type": "code",
   "execution_count": null,
   "id": "29eff4e0",
   "metadata": {},
   "outputs": [],
   "source": [
    "from openproblems.data.tnbc_wu2021 import load_tnbc_data\n",
    "adata = load_tnbc_data(test=False)\n",
    "adata"
   ]
  },
  {
   "cell_type": "code",
   "execution_count": null,
   "id": "c51d4036",
   "metadata": {},
   "outputs": [],
   "source": []
  },
  {
   "cell_type": "code",
   "execution_count": null,
   "id": "d461a948",
   "metadata": {},
   "outputs": [],
   "source": []
  },
  {
   "cell_type": "code",
   "execution_count": null,
   "id": "c560a2cd",
   "metadata": {},
   "outputs": [],
   "source": []
  },
  {
   "cell_type": "code",
   "execution_count": null,
   "id": "3efbcd18",
   "metadata": {},
   "outputs": [],
   "source": []
  },
  {
   "cell_type": "code",
   "execution_count": null,
   "id": "403695cd",
   "metadata": {},
   "outputs": [],
   "source": []
  },
  {
   "cell_type": "code",
   "execution_count": null,
   "id": "ad5844e1",
   "metadata": {},
   "outputs": [],
   "source": [
    "sc.pp.subsample(adata, n_obs=500)"
   ]
  },
  {
   "cell_type": "code",
   "execution_count": null,
   "id": "0c01dfda",
   "metadata": {},
   "outputs": [],
   "source": [
    "adata[:, adata.var.index.isin(set(adata.uns[\"bench\"].ligand))].var.index"
   ]
  },
  {
   "cell_type": "code",
   "execution_count": null,
   "id": "d46c3a46",
   "metadata": {},
   "outputs": [],
   "source": []
  },
  {
   "cell_type": "code",
   "execution_count": null,
   "id": "bb810936",
   "metadata": {},
   "outputs": [],
   "source": []
  },
  {
   "cell_type": "code",
   "execution_count": null,
   "id": "9ab15076",
   "metadata": {},
   "outputs": [],
   "source": []
  },
  {
   "cell_type": "code",
   "execution_count": null,
   "id": "c96113e7",
   "metadata": {},
   "outputs": [],
   "source": [
    "# response ligands\n",
    "lr = list(set(adata.uns[\"bench\"].ligand))\n",
    "\n",
    "# corresponding receptors\n",
    "lr = lr + [\"IFNLR1\", \"CD70\", \"NGFR\", \"CD53\", \"IL20RA\",\n",
    "           \"IL20RB\", \"IL2RG\", \"SIGLEC6\", \"EGFR\", \"ITGB1\",\n",
    "           \"ITGB3\", \"ACVRL1\", \"CXCR4\", \"SMAD3\", \"CAV1\",\n",
    "           \"IL21R\", \"IL4R\", \"IL2RG\", \"IL13RA1\", \"IL13RA2\"\n",
    "          ]"
   ]
  },
  {
   "cell_type": "code",
   "execution_count": null,
   "id": "c6582f45",
   "metadata": {},
   "outputs": [],
   "source": [
    "adata = adata[:, adata.var.index.isin(lr)]"
   ]
  },
  {
   "cell_type": "code",
   "execution_count": null,
   "id": "3f4fd5e4",
   "metadata": {},
   "outputs": [],
   "source": []
  },
  {
   "cell_type": "markdown",
   "id": "461701cb",
   "metadata": {},
   "source": [
    "Normalize internally in op"
   ]
  },
  {
   "cell_type": "code",
   "execution_count": null,
   "id": "e5d5c5d6",
   "metadata": {},
   "outputs": [],
   "source": [
    "from openproblems.tools.normalize import log_cpm"
   ]
  },
  {
   "cell_type": "code",
   "execution_count": null,
   "id": "cd6a672c",
   "metadata": {},
   "outputs": [],
   "source": [
    "adata = log_cpm(adata)"
   ]
  },
  {
   "cell_type": "code",
   "execution_count": null,
   "id": "599a2b09",
   "metadata": {},
   "outputs": [],
   "source": [
    "adata.layers['logcounts'] = adata.layers['log_cpm']\n",
    "del adata.layers['log_cpm']"
   ]
  },
  {
   "cell_type": "code",
   "execution_count": null,
   "id": "e407c915",
   "metadata": {},
   "outputs": [],
   "source": [
    "adata"
   ]
  },
  {
   "cell_type": "code",
   "execution_count": null,
   "id": "39459e6d",
   "metadata": {},
   "outputs": [],
   "source": []
  },
  {
   "cell_type": "code",
   "execution_count": null,
   "id": "71c4dc53",
   "metadata": {},
   "outputs": [],
   "source": []
  },
  {
   "cell_type": "code",
   "execution_count": null,
   "id": "ab604e41",
   "metadata": {},
   "outputs": [],
   "source": []
  },
  {
   "cell_type": "code",
   "execution_count": null,
   "id": "ab5822cf",
   "metadata": {},
   "outputs": [],
   "source": []
  },
  {
   "cell_type": "markdown",
   "id": "89ecea9b",
   "metadata": {},
   "source": [
    "#### TEST method + metric!!!!"
   ]
  },
  {
   "cell_type": "markdown",
   "id": "b2cc959b",
   "metadata": {},
   "source": [
    "### RUN LIANA"
   ]
  },
  {
   "cell_type": "code",
   "execution_count": null,
   "id": "50cc7d8d",
   "metadata": {},
   "outputs": [],
   "source": [
    "import anndata2ri\n",
    "anndata2ri.activate()\n",
    "%load_ext rpy2.ipython"
   ]
  },
  {
   "cell_type": "code",
   "execution_count": null,
   "id": "3af0a402",
   "metadata": {},
   "outputs": [],
   "source": [
    "%%R -i adata -o adata\n",
    "library(tidyverse)\n",
    "library(liana)\n",
    "\n",
    "method = \"natmi\"\n",
    "\n",
    "adata@assays@data$counts <- as(as.matrix(adata@assays@data$logcounts), \"sparseMatrix\")\n",
    "adata@assays@data$logcounts <- as(as.matrix(adata@assays@data$counts), \"sparseMatrix\")\n",
    "\n",
    "\n",
    "# Here, we will convert LIANA's Consensus resource to murine symbols\n",
    "op_resource <- select_resource(\"Consensus\")[[1]]\n",
    "\n",
    "# Check if the target organism is human\n",
    "if(adata@metadata$target_organism!=9606){\n",
    "    # Generate orthologous resource\n",
    "    op_resource <- generate_homologs(op_resource = op_resource,\n",
    "                                     target_organism = adata@metadata$target_organism)\n",
    "}\n",
    "\n",
    "\n",
    "# Run LIANA\n",
    "adata@metadata$liana_res = liana_wrap(adata,\n",
    "                                      resource = 'custom',# resource has to be set to 'custom' to work with external resources\n",
    "                                      external_resource = op_resource, # provide orthologous resource\n",
    "                                      method=method,\n",
    "                                      expr_prop = 0.1\n",
    "                                      \n",
    "                        ) %>%\n",
    "    # DEAL WITH THIS AT A PER-METHOD BASIS (in R again) ^ code above is shared for all methods\n",
    "    mutate(score := .data[[liana:::.score_specs()[[method]]@method_score]]) %>%\n",
    "    arrange(desc(score))"
   ]
  },
  {
   "cell_type": "code",
   "execution_count": null,
   "id": "c2acde17",
   "metadata": {},
   "outputs": [],
   "source": []
  },
  {
   "cell_type": "code",
   "execution_count": null,
   "id": "a3ef2ddc",
   "metadata": {},
   "outputs": [],
   "source": [
    "# Merge liana's results with the truth\n",
    "gt = adata.uns[\"bench\"].merge(adata.uns[\"liana_res\"], how='right')\n",
    "adata.uns[\"truth\"] = gt[gt['response'].notna()]"
   ]
  },
  {
   "cell_type": "code",
   "execution_count": null,
   "id": "d3b6de0a",
   "metadata": {},
   "outputs": [],
   "source": []
  },
  {
   "cell_type": "code",
   "execution_count": null,
   "id": "41b178df",
   "metadata": {},
   "outputs": [],
   "source": [
    "adata.uns[\"truth\"]"
   ]
  },
  {
   "cell_type": "code",
   "execution_count": null,
   "id": "5ba78c95",
   "metadata": {},
   "outputs": [],
   "source": []
  },
  {
   "cell_type": "code",
   "execution_count": null,
   "id": "ec52c1b7",
   "metadata": {},
   "outputs": [],
   "source": [
    "odds_ratio(adata)"
   ]
  },
  {
   "cell_type": "code",
   "execution_count": null,
   "id": "422d85e7",
   "metadata": {},
   "outputs": [],
   "source": []
  },
  {
   "cell_type": "code",
   "execution_count": null,
   "id": "75810ee5",
   "metadata": {},
   "outputs": [],
   "source": []
  },
  {
   "cell_type": "code",
   "execution_count": null,
   "id": "3714631c",
   "metadata": {},
   "outputs": [],
   "source": []
  }
 ],
 "metadata": {
  "kernelspec": {
   "display_name": "liana4.1",
   "language": "python",
   "name": "liana4.1"
  },
  "language_info": {
   "codemirror_mode": {
    "name": "ipython",
    "version": 3
   },
   "file_extension": ".py",
   "mimetype": "text/x-python",
   "name": "python",
   "nbconvert_exporter": "python",
   "pygments_lexer": "ipython3",
   "version": "3.8.3"
  }
 },
 "nbformat": 4,
 "nbformat_minor": 5
}
