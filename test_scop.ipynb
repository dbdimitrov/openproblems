{
 "cells": [
  {
   "cell_type": "code",
   "execution_count": 10,
   "id": "820bce37",
   "metadata": {},
   "outputs": [],
   "source": [
    "import scanpy as sc\n",
    "import numpy as np"
   ]
  },
  {
   "cell_type": "code",
   "execution_count": null,
   "id": "21aef0e8",
   "metadata": {},
   "outputs": [],
   "source": [
    "import rpy2\n",
    "import rpy2.robjects as robjects"
   ]
  },
  {
   "cell_type": "code",
   "execution_count": null,
   "id": "9c8a82d4",
   "metadata": {},
   "outputs": [],
   "source": [
    "import anndata2ri\n",
    "from rpy2.robjects import r\n",
    "from rpy2.robjects.conversion import localconverter"
   ]
  },
  {
   "cell_type": "code",
   "execution_count": null,
   "id": "edca9402",
   "metadata": {},
   "outputs": [],
   "source": [
    "from rpy2.robjects.packages import importr, data"
   ]
  },
  {
   "cell_type": "code",
   "execution_count": null,
   "id": "39deef77",
   "metadata": {},
   "outputs": [],
   "source": []
  },
  {
   "cell_type": "code",
   "execution_count": null,
   "id": "42628525",
   "metadata": {},
   "outputs": [],
   "source": [
    "from openproblems.tasks.cell_cell_communication.metrics.odds_ratio import odds_ratio"
   ]
  },
  {
   "cell_type": "code",
   "execution_count": null,
   "id": "ac56464f",
   "metadata": {},
   "outputs": [],
   "source": []
  },
  {
   "cell_type": "code",
   "execution_count": null,
   "id": "d913cab6",
   "metadata": {},
   "outputs": [],
   "source": []
  },
  {
   "cell_type": "markdown",
   "id": "a7171f7b",
   "metadata": {},
   "source": [
    "## FILES"
   ]
  },
  {
   "cell_type": "markdown",
   "id": "f6a06d99",
   "metadata": {},
   "source": [
    "#### Brain"
   ]
  },
  {
   "cell_type": "code",
   "execution_count": null,
   "id": "10527486",
   "metadata": {},
   "outputs": [],
   "source": [
    "adata = sc.read(\"/media/dbdimitrov/SSDDimitrov/Repos/liana2/data/scop/allen_brain.h5ad\")"
   ]
  },
  {
   "cell_type": "code",
   "execution_count": null,
   "id": "72b3a61e",
   "metadata": {},
   "outputs": [],
   "source": [
    "del adata.layers['logcounts']"
   ]
  },
  {
   "cell_type": "code",
   "execution_count": null,
   "id": "fd7a2912",
   "metadata": {},
   "outputs": [],
   "source": [
    "adata.write_h5ad(\"/home/dbdimitrov/Downloads/allen_brain.h5ad\")"
   ]
  },
  {
   "cell_type": "code",
   "execution_count": null,
   "id": "29252108",
   "metadata": {},
   "outputs": [],
   "source": [
    "adata.uns[\"bench\"]"
   ]
  },
  {
   "cell_type": "code",
   "execution_count": null,
   "id": "9778f65b",
   "metadata": {},
   "outputs": [],
   "source": [
    "adata"
   ]
  },
  {
   "cell_type": "code",
   "execution_count": null,
   "id": "c12963b4",
   "metadata": {},
   "outputs": [],
   "source": [
    "sc.pp.subsample(adata, n_obs=500)\n",
    "adata = adata[:, 30000:30500].copy()"
   ]
  },
  {
   "cell_type": "code",
   "execution_count": null,
   "id": "a375d02f",
   "metadata": {},
   "outputs": [],
   "source": [
    "adata"
   ]
  },
  {
   "cell_type": "code",
   "execution_count": null,
   "id": "4eb4a714",
   "metadata": {},
   "outputs": [],
   "source": []
  },
  {
   "cell_type": "markdown",
   "id": "2b1c9690",
   "metadata": {},
   "source": [
    "#### TNBC"
   ]
  },
  {
   "cell_type": "code",
   "execution_count": null,
   "id": "958cefe8",
   "metadata": {},
   "outputs": [],
   "source": [
    "adata = sc.read(\"/media/dbdimitrov/SSDDimitrov/Repos/liana2/data/scop/brca_tnbc.h5ad\")"
   ]
  },
  {
   "cell_type": "code",
   "execution_count": null,
   "id": "15817457",
   "metadata": {},
   "outputs": [],
   "source": [
    "del adata.layers['logcounts']"
   ]
  },
  {
   "cell_type": "code",
   "execution_count": null,
   "id": "302ba668",
   "metadata": {},
   "outputs": [],
   "source": [
    "adata"
   ]
  },
  {
   "cell_type": "code",
   "execution_count": null,
   "id": "cc9121c0",
   "metadata": {},
   "outputs": [],
   "source": [
    "adata.write_h5ad(\"/home/dbdimitrov/Downloads/brca_tnbc.h5ad\")"
   ]
  },
  {
   "cell_type": "code",
   "execution_count": null,
   "id": "8c970fc7",
   "metadata": {},
   "outputs": [],
   "source": []
  },
  {
   "cell_type": "code",
   "execution_count": null,
   "id": "7db552cd",
   "metadata": {},
   "outputs": [],
   "source": []
  },
  {
   "cell_type": "markdown",
   "id": "52993eb2",
   "metadata": {},
   "source": [
    "### Test Data LOAD, norm!!!"
   ]
  },
  {
   "cell_type": "code",
   "execution_count": null,
   "id": "aa3e36fa",
   "metadata": {},
   "outputs": [],
   "source": []
  },
  {
   "cell_type": "markdown",
   "id": "c7db3d50",
   "metadata": {},
   "source": [
    "##### BRAIN"
   ]
  },
  {
   "cell_type": "code",
   "execution_count": null,
   "id": "184754a7",
   "metadata": {},
   "outputs": [],
   "source": [
    "from openproblems.data.allen_brain_atlas import load_mouse_brain_atlas"
   ]
  },
  {
   "cell_type": "code",
   "execution_count": null,
   "id": "c64e7b61",
   "metadata": {},
   "outputs": [],
   "source": [
    "adata = load_mouse_brain_atlas(test=True)"
   ]
  },
  {
   "cell_type": "code",
   "execution_count": null,
   "id": "5b7b58b5",
   "metadata": {},
   "outputs": [],
   "source": [
    "adata"
   ]
  },
  {
   "cell_type": "code",
   "execution_count": null,
   "id": "9e22edd4",
   "metadata": {},
   "outputs": [],
   "source": []
  },
  {
   "cell_type": "code",
   "execution_count": null,
   "id": "58e5c8b4",
   "metadata": {},
   "outputs": [],
   "source": []
  },
  {
   "cell_type": "markdown",
   "id": "57c7ea11",
   "metadata": {},
   "source": [
    "##### TNBC"
   ]
  },
  {
   "cell_type": "code",
   "execution_count": null,
   "id": "1e6baeca",
   "metadata": {},
   "outputs": [],
   "source": [
    "from openproblems.data.tnbc_wu2021 import load_tnbc_data\n",
    "adata = load_tnbc_data(test=True)\n",
    "adata"
   ]
  },
  {
   "cell_type": "code",
   "execution_count": null,
   "id": "631949f1",
   "metadata": {},
   "outputs": [],
   "source": []
  },
  {
   "cell_type": "code",
   "execution_count": null,
   "id": "a920beac",
   "metadata": {},
   "outputs": [],
   "source": []
  },
  {
   "cell_type": "markdown",
   "id": "4ffd6fad",
   "metadata": {},
   "source": [
    "Normalize internally in op"
   ]
  },
  {
   "cell_type": "code",
   "execution_count": null,
   "id": "209e8bf5",
   "metadata": {},
   "outputs": [],
   "source": [
    "from openproblems.tools.normalize import log_cpm"
   ]
  },
  {
   "cell_type": "code",
   "execution_count": null,
   "id": "6a45309f",
   "metadata": {},
   "outputs": [],
   "source": [
    "adata = log_cpm(adata)\n",
    "adata.layers['logcounts'] = adata.layers['log_cpm']\n",
    "del adata.layers['log_cpm']"
   ]
  },
  {
   "cell_type": "code",
   "execution_count": null,
   "id": "5157e16a",
   "metadata": {},
   "outputs": [],
   "source": []
  },
  {
   "cell_type": "code",
   "execution_count": null,
   "id": "69ff3486",
   "metadata": {},
   "outputs": [],
   "source": [
    "adata"
   ]
  },
  {
   "cell_type": "code",
   "execution_count": null,
   "id": "f9a36035",
   "metadata": {},
   "outputs": [],
   "source": []
  },
  {
   "cell_type": "code",
   "execution_count": null,
   "id": "b425c7d1",
   "metadata": {},
   "outputs": [],
   "source": []
  },
  {
   "cell_type": "code",
   "execution_count": null,
   "id": "d0b49084",
   "metadata": {},
   "outputs": [],
   "source": []
  },
  {
   "cell_type": "markdown",
   "id": "6876e831",
   "metadata": {},
   "source": [
    "#### TEST method + metric!!!!"
   ]
  },
  {
   "cell_type": "markdown",
   "id": "c577836f",
   "metadata": {},
   "source": [
    "### RUN LIANA"
   ]
  },
  {
   "cell_type": "code",
   "execution_count": null,
   "id": "9eb36950",
   "metadata": {},
   "outputs": [],
   "source": [
    "import anndata2ri\n",
    "anndata2ri.activate()\n",
    "%load_ext rpy2.ipython"
   ]
  },
  {
   "cell_type": "code",
   "execution_count": null,
   "id": "a2506c89",
   "metadata": {},
   "outputs": [],
   "source": [
    "%%R -i adata -o adata\n",
    "library(tidyverse)\n",
    "library(liana)\n",
    "\n",
    "method = \"natmi\"\n",
    "\n",
    "adata@assays@data$counts <- as(as.matrix(adata@assays@data$logcounts), \"sparseMatrix\")\n",
    "adata@assays@data$logcounts <- as(as.matrix(adata@assays@data$counts), \"sparseMatrix\")\n",
    "\n",
    "\n",
    "# Here, we will convert LIANA's Consensus resource to murine symbols\n",
    "op_resource <- select_resource(\"Consensus\")[[1]]\n",
    "\n",
    "# Check if the target organism is human\n",
    "if(adata@metadata$target_organism!=9606){\n",
    "    # Generate orthologous resource\n",
    "    op_resource <- generate_homologs(op_resource = op_resource,\n",
    "                                     target_organism = adata@metadata$target_organism)\n",
    "}\n",
    "\n",
    "\n",
    "# Run LIANA\n",
    "adata@metadata$ccc = liana_wrap(adata,\n",
    "                                resource = 'custom',\n",
    "                                external_resource = op_resource,\n",
    "                                method=method,\n",
    "                                expr_prop = 0.1,\n",
    "                                idents_col = \"label\"\n",
    "                                ) %>%\n",
    "    # DEAL WITH THIS AT A PER-METHOD BASIS (in R again) ^ code above is shared for all methods\n",
    "    mutate(score := .data[[liana:::.score_specs()[[method]]@method_score]]) %>%\n",
    "    arrange(desc(score))"
   ]
  },
  {
   "cell_type": "code",
   "execution_count": null,
   "id": "805ddf98",
   "metadata": {},
   "outputs": [],
   "source": [
    "check_method(adata)"
   ]
  },
  {
   "cell_type": "code",
   "execution_count": null,
   "id": "95d0d67d",
   "metadata": {},
   "outputs": [],
   "source": []
  },
  {
   "cell_type": "code",
   "execution_count": null,
   "id": "dd30c0c0",
   "metadata": {},
   "outputs": [],
   "source": []
  },
  {
   "cell_type": "code",
   "execution_count": null,
   "id": "ab851fb0",
   "metadata": {},
   "outputs": [],
   "source": []
  },
  {
   "cell_type": "code",
   "execution_count": null,
   "id": "80a1c12a",
   "metadata": {},
   "outputs": [],
   "source": [
    "# Merge liana's results with the truth\n",
    "gt = adata.uns[\"bench\"].merge(adata.uns[\"ccc\"], how='right')\n",
    "adata.uns[\"truth\"] = gt[gt['response'].notna()]"
   ]
  },
  {
   "cell_type": "code",
   "execution_count": null,
   "id": "b60a3dbd",
   "metadata": {},
   "outputs": [],
   "source": [
    "adata.uns[\"truth\"]"
   ]
  },
  {
   "cell_type": "code",
   "execution_count": null,
   "id": "f926f338",
   "metadata": {},
   "outputs": [],
   "source": []
  },
  {
   "cell_type": "code",
   "execution_count": null,
   "id": "e4179709",
   "metadata": {},
   "outputs": [],
   "source": [
    "odds_ratio(adata, top_n=1)"
   ]
  },
  {
   "cell_type": "code",
   "execution_count": null,
   "id": "ac455698",
   "metadata": {},
   "outputs": [],
   "source": [
    "odds_ratio"
   ]
  },
  {
   "cell_type": "code",
   "execution_count": null,
   "id": "5815f32c",
   "metadata": {},
   "outputs": [],
   "source": []
  },
  {
   "cell_type": "code",
   "execution_count": null,
   "id": "7b20e3c9",
   "metadata": {},
   "outputs": [],
   "source": [
    "import inspect\n",
    "lines = inspect.getsource(odds_ratio)\n",
    "print(lines)\n"
   ]
  },
  {
   "cell_type": "code",
   "execution_count": null,
   "id": "e3599834",
   "metadata": {},
   "outputs": [],
   "source": [
    "\"ccc\" in adata.uns"
   ]
  },
  {
   "cell_type": "code",
   "execution_count": null,
   "id": "963d9644",
   "metadata": {},
   "outputs": [],
   "source": [
    "all( adata.uns[\"ccc\"]"
   ]
  },
  {
   "cell_type": "code",
   "execution_count": null,
   "id": "abbcae12",
   "metadata": {},
   "outputs": [],
   "source": []
  },
  {
   "cell_type": "code",
   "execution_count": null,
   "id": "abf39ad9",
   "metadata": {},
   "outputs": [],
   "source": [
    "set(adata.uns[\"ccc\"])"
   ]
  },
  {
   "cell_type": "code",
   "execution_count": null,
   "id": "427023b7",
   "metadata": {},
   "outputs": [],
   "source": []
  },
  {
   "cell_type": "code",
   "execution_count": null,
   "id": "a1c98d0a",
   "metadata": {},
   "outputs": [],
   "source": [
    "\"response\" in adata.uns[\"bench\"]"
   ]
  },
  {
   "cell_type": "code",
   "execution_count": null,
   "id": "2db7f02e",
   "metadata": {},
   "outputs": [],
   "source": []
  },
  {
   "cell_type": "code",
   "execution_count": null,
   "id": "b21c164b",
   "metadata": {},
   "outputs": [],
   "source": []
  },
  {
   "cell_type": "code",
   "execution_count": null,
   "id": "8478e115",
   "metadata": {},
   "outputs": [],
   "source": []
  },
  {
   "cell_type": "markdown",
   "id": "f2fe99a1",
   "metadata": {},
   "source": [
    "### Create Sample dataset"
   ]
  },
  {
   "cell_type": "code",
   "execution_count": null,
   "id": "946e101b",
   "metadata": {},
   "outputs": [],
   "source": [
    "from openproblems.data.sample import load_sample_data"
   ]
  },
  {
   "cell_type": "code",
   "execution_count": null,
   "id": "7cfe7c9a",
   "metadata": {},
   "outputs": [],
   "source": [
    "adata = load_sample_data()"
   ]
  },
  {
   "cell_type": "markdown",
   "id": "99c5aede",
   "metadata": {},
   "source": [
    "Modify sample data to required input"
   ]
  },
  {
   "cell_type": "code",
   "execution_count": null,
   "id": "64b3dbf5",
   "metadata": {},
   "outputs": [],
   "source": []
  },
  {
   "cell_type": "code",
   "execution_count": null,
   "id": "dcc61df6",
   "metadata": {},
   "outputs": [],
   "source": []
  },
  {
   "cell_type": "code",
   "execution_count": null,
   "id": "98da2d72",
   "metadata": {},
   "outputs": [],
   "source": [
    "# keep only the top 10 most variable\n",
    "sc.pp.highly_variable_genes(adata, n_top_genes=10)\n",
    "adata = adata[:,adata.var['highly_variable']]\n",
    "# assign names to known interactions\n",
    "adata.var.index = ['LGALS9', 'PTPRC',\n",
    "                   'LRP1', 'CD47',\n",
    "                   'CD44', 'COL1A1',\n",
    "                   'ADAM10', 'SIRPA',\n",
    "                  'COL4A1', 'THBS2']\n",
    "# transfer label\n",
    "adata.obs[\"label\"] = adata.obs.cell_name\n",
    "\n",
    "# assign to human prior knowledge\n",
    "adata.uns[\"target_organism\"] = 9606"
   ]
  },
  {
   "cell_type": "code",
   "execution_count": null,
   "id": "32bb921f",
   "metadata": {},
   "outputs": [],
   "source": []
  },
  {
   "cell_type": "code",
   "execution_count": null,
   "id": "a3ee32da",
   "metadata": {},
   "outputs": [],
   "source": []
  },
  {
   "cell_type": "code",
   "execution_count": null,
   "id": "744cf7b8",
   "metadata": {},
   "outputs": [],
   "source": []
  },
  {
   "cell_type": "code",
   "execution_count": null,
   "id": "ece987d6",
   "metadata": {},
   "outputs": [],
   "source": [
    "adata = log_cpm(adata)\n",
    "adata.layers['logcounts'] = adata.layers['log_cpm']\n",
    "del adata.layers['log_cpm']"
   ]
  },
  {
   "cell_type": "code",
   "execution_count": null,
   "id": "d92117a0",
   "metadata": {},
   "outputs": [],
   "source": []
  },
  {
   "cell_type": "code",
   "execution_count": null,
   "id": "1e29132f",
   "metadata": {},
   "outputs": [],
   "source": [
    "adata.uns['ccc']"
   ]
  },
  {
   "cell_type": "code",
   "execution_count": null,
   "id": "6829023e",
   "metadata": {},
   "outputs": [],
   "source": []
  },
  {
   "cell_type": "code",
   "execution_count": null,
   "id": "5e5ecc19",
   "metadata": {},
   "outputs": [],
   "source": [
    "method_sample = pd.DataFrame(rng.integers(0, 100, size=(100, 4)), columns=list('ABCD'))"
   ]
  },
  {
   "cell_type": "code",
   "execution_count": null,
   "id": "9eece1fc",
   "metadata": {},
   "outputs": [],
   "source": [
    "import pandas as pd\n",
    "import random"
   ]
  },
  {
   "cell_type": "code",
   "execution_count": null,
   "id": "186714c3",
   "metadata": {},
   "outputs": [],
   "source": [
    "?random.sample"
   ]
  },
  {
   "cell_type": "code",
   "execution_count": null,
   "id": "87952f7d",
   "metadata": {},
   "outputs": [],
   "source": []
  },
  {
   "cell_type": "code",
   "execution_count": null,
   "id": "eac36303",
   "metadata": {},
   "outputs": [],
   "source": []
  },
  {
   "cell_type": "code",
   "execution_count": null,
   "id": "93790888",
   "metadata": {},
   "outputs": [],
   "source": []
  },
  {
   "cell_type": "code",
   "execution_count": null,
   "id": "edac3b5c",
   "metadata": {},
   "outputs": [],
   "source": [
    "df"
   ]
  },
  {
   "cell_type": "code",
   "execution_count": null,
   "id": "8a8d8c1b",
   "metadata": {},
   "outputs": [],
   "source": []
  },
  {
   "cell_type": "code",
   "execution_count": null,
   "id": "38654eb9",
   "metadata": {},
   "outputs": [],
   "source": []
  },
  {
   "cell_type": "code",
   "execution_count": null,
   "id": "f3c54c15",
   "metadata": {},
   "outputs": [],
   "source": []
  },
  {
   "cell_type": "code",
   "execution_count": null,
   "id": "a76e5962",
   "metadata": {},
   "outputs": [],
   "source": []
  },
  {
   "cell_type": "code",
   "execution_count": null,
   "id": "47c459dc",
   "metadata": {},
   "outputs": [],
   "source": []
  },
  {
   "cell_type": "code",
   "execution_count": null,
   "id": "e37c8ab2",
   "metadata": {},
   "outputs": [],
   "source": []
  },
  {
   "cell_type": "code",
   "execution_count": null,
   "id": "cbce0d48",
   "metadata": {},
   "outputs": [],
   "source": []
  },
  {
   "cell_type": "code",
   "execution_count": null,
   "id": "b11ae53c",
   "metadata": {},
   "outputs": [],
   "source": []
  },
  {
   "cell_type": "code",
   "execution_count": null,
   "id": "813dfa48",
   "metadata": {},
   "outputs": [],
   "source": []
  },
  {
   "cell_type": "code",
   "execution_count": null,
   "id": "48c876dd",
   "metadata": {},
   "outputs": [],
   "source": []
  },
  {
   "cell_type": "code",
   "execution_count": null,
   "id": "11ad250a",
   "metadata": {},
   "outputs": [],
   "source": []
  },
  {
   "cell_type": "code",
   "execution_count": null,
   "id": "e3064127",
   "metadata": {},
   "outputs": [],
   "source": []
  },
  {
   "cell_type": "code",
   "execution_count": null,
   "id": "4701b5e0",
   "metadata": {},
   "outputs": [],
   "source": [
    "df['NEW'] = pd.Series(pd.util.testing.rands(3), index=df.index)"
   ]
  },
  {
   "cell_type": "code",
   "execution_count": null,
   "id": "3b2ec05b",
   "metadata": {},
   "outputs": [],
   "source": [
    "df"
   ]
  },
  {
   "cell_type": "code",
   "execution_count": null,
   "id": "0e5c21a4",
   "metadata": {},
   "outputs": [],
   "source": [
    "num_rows = 10\n",
    "\n",
    "data = np.array([id_generator() for i in range(2*num_rows)]).reshape(-1,2)\n",
    "pd.DataFrame(data)\n"
   ]
  },
  {
   "cell_type": "code",
   "execution_count": null,
   "id": "02e29e0e",
   "metadata": {},
   "outputs": [],
   "source": []
  },
  {
   "cell_type": "code",
   "execution_count": null,
   "id": "26077179",
   "metadata": {},
   "outputs": [],
   "source": []
  },
  {
   "cell_type": "markdown",
   "id": "c04ebcca",
   "metadata": {},
   "source": [
    "Test tests"
   ]
  },
  {
   "cell_type": "code",
   "execution_count": null,
   "id": "3a383a55",
   "metadata": {},
   "outputs": [],
   "source": [
    "from openproblems.tasks.cell_cell_communication.api import check_dataset, sample_dataset, sample_method, check_method"
   ]
  },
  {
   "cell_type": "code",
   "execution_count": null,
   "id": "9d5d38c7",
   "metadata": {},
   "outputs": [],
   "source": [
    "adata = sample_dataset()"
   ]
  },
  {
   "cell_type": "code",
   "execution_count": null,
   "id": "0130ac75",
   "metadata": {},
   "outputs": [],
   "source": [
    "check_dataset(adata)"
   ]
  },
  {
   "cell_type": "code",
   "execution_count": null,
   "id": "bf2ea5fc",
   "metadata": {},
   "outputs": [],
   "source": []
  },
  {
   "cell_type": "code",
   "execution_count": null,
   "id": "dc430a96",
   "metadata": {},
   "outputs": [],
   "source": [
    "adata = sample_method(adata)"
   ]
  },
  {
   "cell_type": "code",
   "execution_count": null,
   "id": "a680b26d",
   "metadata": {},
   "outputs": [],
   "source": [
    "adata.uns[\"ccc\"]"
   ]
  },
  {
   "cell_type": "code",
   "execution_count": null,
   "id": "c12ace73",
   "metadata": {},
   "outputs": [],
   "source": []
  },
  {
   "cell_type": "code",
   "execution_count": null,
   "id": "079b3aac",
   "metadata": {},
   "outputs": [],
   "source": [
    "check_method(adata)"
   ]
  },
  {
   "cell_type": "code",
   "execution_count": null,
   "id": "9d14aaa7",
   "metadata": {},
   "outputs": [],
   "source": []
  },
  {
   "cell_type": "code",
   "execution_count": null,
   "id": "6f8429bc",
   "metadata": {},
   "outputs": [],
   "source": []
  },
  {
   "cell_type": "code",
   "execution_count": null,
   "id": "d7292a4d",
   "metadata": {},
   "outputs": [],
   "source": []
  },
  {
   "cell_type": "markdown",
   "id": "67ed3fa0",
   "metadata": {},
   "source": [
    "Test methods"
   ]
  },
  {
   "cell_type": "code",
   "execution_count": null,
   "id": "7a73addd",
   "metadata": {},
   "outputs": [],
   "source": [
    "# from openproblems.data.tnbc_wu2021 import load_tnbc_data\n",
    "# adata = load_tnbc_data(test=True)\n",
    "# adata"
   ]
  },
  {
   "cell_type": "code",
   "execution_count": null,
   "id": "9e97eb50",
   "metadata": {},
   "outputs": [],
   "source": [
    "# adata.write_h5ad(\"/home/dbdimitrov/Downloads/test.h5ad\")"
   ]
  },
  {
   "cell_type": "code",
   "execution_count": 1,
   "id": "bed06de4",
   "metadata": {},
   "outputs": [],
   "source": [
    "import scanpy as sc"
   ]
  },
  {
   "cell_type": "code",
   "execution_count": 2,
   "id": "3057bd9c",
   "metadata": {},
   "outputs": [],
   "source": [
    "adata = sc.read_h5ad(\"/home/dbdimitrov/Downloads/test.h5ad\")"
   ]
  },
  {
   "cell_type": "code",
   "execution_count": 3,
   "id": "f217d871",
   "metadata": {},
   "outputs": [],
   "source": [
    "adata.X = adata.layers[\"counts\"]"
   ]
  },
  {
   "cell_type": "code",
   "execution_count": 4,
   "id": "150a1046",
   "metadata": {},
   "outputs": [],
   "source": [
    "from openproblems.tasks.cell_cell_communication.methods import liana, natmi, sca, logfc, cellphonedb, connectome"
   ]
  },
  {
   "cell_type": "code",
   "execution_count": null,
   "id": "badd168f",
   "metadata": {},
   "outputs": [],
   "source": []
  },
  {
   "cell_type": "code",
   "execution_count": 6,
   "id": "2c408b99",
   "metadata": {},
   "outputs": [
    {
     "name": "stdout",
     "output_type": "stream",
     "text": [
      "WARNING: adata.X seems to be already log-transformed.\n"
     ]
    },
    {
     "name": "stderr",
     "output_type": "stream",
     "text": [
      "/home/dbdimitrov/.local/lib/python3.8/site-packages/scanpy/preprocessing/_normalization.py:182: UserWarning: Some cells have zero counts\n",
      "  warn(UserWarning('Some cells have zero counts'))\n",
      "WARNING:rpy2.rinterface_lib.callbacks:R[write to console]: Running LIANA with `label` as labels!\n",
      "WARNING:rpy2.rinterface_lib.callbacks:R[write to console]: LIANA: LR summary stats calculated!\n",
      "WARNING:rpy2.rinterface_lib.callbacks:R[write to console]: Now Running: Sca\n"
     ]
    }
   ],
   "source": [
    "adata = sca(adata)"
   ]
  },
  {
   "cell_type": "code",
   "execution_count": null,
   "id": "56d8e2f6",
   "metadata": {},
   "outputs": [],
   "source": []
  },
  {
   "cell_type": "code",
   "execution_count": null,
   "id": "814d4e89",
   "metadata": {},
   "outputs": [],
   "source": []
  },
  {
   "cell_type": "code",
   "execution_count": 8,
   "id": "32adc1de",
   "metadata": {},
   "outputs": [],
   "source": [
    "gt = adata.uns[\"bench\"].merge(adata.uns[\"ccc\"], how='right')\n",
    "gt = gt[gt['response'].notna()]"
   ]
  },
  {
   "cell_type": "code",
   "execution_count": 15,
   "id": "787874b6",
   "metadata": {},
   "outputs": [
    {
     "data": {
      "text/plain": [
       "276.0"
      ]
     },
     "execution_count": 15,
     "metadata": {},
     "output_type": "execute_result"
    }
   ],
   "source": [
    "np.sum(gt.response.values)"
   ]
  },
  {
   "cell_type": "code",
   "execution_count": null,
   "id": "9718bc33",
   "metadata": {},
   "outputs": [],
   "source": []
  },
  {
   "cell_type": "code",
   "execution_count": null,
   "id": "b57ab6a9",
   "metadata": {},
   "outputs": [],
   "source": [
    "sum(gt.response)"
   ]
  },
  {
   "cell_type": "code",
   "execution_count": null,
   "id": "e359aed7",
   "metadata": {},
   "outputs": [],
   "source": [
    "adata.uns[\"ccc\"]"
   ]
  },
  {
   "cell_type": "code",
   "execution_count": null,
   "id": "40803353",
   "metadata": {},
   "outputs": [],
   "source": [
    "adata.uns[\"bench\"]"
   ]
  },
  {
   "cell_type": "code",
   "execution_count": null,
   "id": "b12a2a64",
   "metadata": {},
   "outputs": [],
   "source": [
    "?pd.merge(adata.uns[\"ccc\"], how='right')"
   ]
  },
  {
   "cell_type": "code",
   "execution_count": null,
   "id": "c131fb28",
   "metadata": {},
   "outputs": [],
   "source": [
    "adata.uns[\"bench\"].merge(adata.uns[\"ccc\"], how='right', on=['target'])"
   ]
  },
  {
   "cell_type": "code",
   "execution_count": null,
   "id": "be830649",
   "metadata": {},
   "outputs": [],
   "source": [
    "adata.uns[\"ccc\"]"
   ]
  },
  {
   "cell_type": "code",
   "execution_count": null,
   "id": "97ed046f",
   "metadata": {},
   "outputs": [],
   "source": []
  },
  {
   "cell_type": "code",
   "execution_count": null,
   "id": "d3e4eb7a",
   "metadata": {},
   "outputs": [],
   "source": [
    "len(gt.response)"
   ]
  },
  {
   "cell_type": "code",
   "execution_count": null,
   "id": "44c908df",
   "metadata": {},
   "outputs": [],
   "source": []
  },
  {
   "cell_type": "code",
   "execution_count": 17,
   "id": "17e33829",
   "metadata": {},
   "outputs": [],
   "source": [
    "from openproblems.tasks.cell_cell_communication.metrics.odds_ratio import odds_ratio"
   ]
  },
  {
   "cell_type": "code",
   "execution_count": 21,
   "id": "82b68abb",
   "metadata": {},
   "outputs": [
    {
     "data": {
      "text/plain": [
       "0.45662847790507366"
      ]
     },
     "execution_count": 21,
     "metadata": {},
     "output_type": "execute_result"
    }
   ],
   "source": [
    "odds_ratio(adata, top_n=50)"
   ]
  },
  {
   "cell_type": "code",
   "execution_count": null,
   "id": "81957ab6",
   "metadata": {},
   "outputs": [],
   "source": []
  },
  {
   "cell_type": "code",
   "execution_count": null,
   "id": "793ab8be",
   "metadata": {},
   "outputs": [],
   "source": []
  }
 ],
 "metadata": {
  "kernelspec": {
   "display_name": "liana4.1",
   "language": "python",
   "name": "liana4.1"
  },
  "language_info": {
   "codemirror_mode": {
    "name": "ipython",
    "version": 3
   },
   "file_extension": ".py",
   "mimetype": "text/x-python",
   "name": "python",
   "nbconvert_exporter": "python",
   "pygments_lexer": "ipython3",
   "version": "3.8.3"
  }
 },
 "nbformat": 4,
 "nbformat_minor": 5
}
