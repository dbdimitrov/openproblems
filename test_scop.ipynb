{
 "cells": [
  {
   "cell_type": "code",
   "execution_count": null,
   "id": "eef0c4be",
   "metadata": {},
   "outputs": [],
   "source": [
    "import scanpy as sc\n",
    "import numpy as np"
   ]
  },
  {
   "cell_type": "code",
   "execution_count": null,
   "id": "1199a24b",
   "metadata": {},
   "outputs": [],
   "source": [
    "import rpy2\n",
    "import rpy2.robjects as robjects"
   ]
  },
  {
   "cell_type": "code",
   "execution_count": null,
   "id": "5789b029",
   "metadata": {},
   "outputs": [],
   "source": [
    "import anndata2ri\n",
    "from rpy2.robjects import r\n",
    "from rpy2.robjects.conversion import localconverter"
   ]
  },
  {
   "cell_type": "code",
   "execution_count": null,
   "id": "cea96ab9",
   "metadata": {},
   "outputs": [],
   "source": [
    "from rpy2.robjects.packages import importr, data"
   ]
  },
  {
   "cell_type": "code",
   "execution_count": null,
   "id": "00ff397f",
   "metadata": {},
   "outputs": [],
   "source": []
  },
  {
   "cell_type": "code",
   "execution_count": null,
   "id": "62988185",
   "metadata": {},
   "outputs": [],
   "source": [
    "from openproblems.tasks.cell_cell_communication.metrics.odds_ratio import odds_ratio"
   ]
  },
  {
   "cell_type": "code",
   "execution_count": null,
   "id": "96d8f320",
   "metadata": {},
   "outputs": [],
   "source": []
  },
  {
   "cell_type": "code",
   "execution_count": null,
   "id": "40d506dc",
   "metadata": {},
   "outputs": [],
   "source": []
  },
  {
   "cell_type": "markdown",
   "id": "e97477af",
   "metadata": {},
   "source": [
    "## FILES"
   ]
  },
  {
   "cell_type": "markdown",
   "id": "d10b5b0b",
   "metadata": {},
   "source": [
    "#### Brain"
   ]
  },
  {
   "cell_type": "code",
   "execution_count": null,
   "id": "567809bb",
   "metadata": {},
   "outputs": [],
   "source": [
    "adata = sc.read(\"/media/dbdimitrov/SSDDimitrov/Repos/liana2/data/scop/allen_brain.h5ad\")"
   ]
  },
  {
   "cell_type": "code",
   "execution_count": null,
   "id": "5dc1c3da",
   "metadata": {},
   "outputs": [],
   "source": [
    "del adata.layers['logcounts']"
   ]
  },
  {
   "cell_type": "code",
   "execution_count": null,
   "id": "b11216ee",
   "metadata": {},
   "outputs": [],
   "source": [
    "adata.write_h5ad(\"/home/dbdimitrov/Downloads/allen_brain.h5ad\")"
   ]
  },
  {
   "cell_type": "code",
   "execution_count": null,
   "id": "4b20fc99",
   "metadata": {},
   "outputs": [],
   "source": [
    "adata.uns[\"bench\"]"
   ]
  },
  {
   "cell_type": "code",
   "execution_count": null,
   "id": "3dd9d5f1",
   "metadata": {},
   "outputs": [],
   "source": [
    "adata"
   ]
  },
  {
   "cell_type": "code",
   "execution_count": null,
   "id": "d4b4d7b4",
   "metadata": {},
   "outputs": [],
   "source": [
    "sc.pp.subsample(adata, n_obs=500)\n",
    "adata = adata[:, 30000:30500].copy()"
   ]
  },
  {
   "cell_type": "code",
   "execution_count": null,
   "id": "7804d5c7",
   "metadata": {},
   "outputs": [],
   "source": [
    "adata"
   ]
  },
  {
   "cell_type": "code",
   "execution_count": null,
   "id": "4a0705cf",
   "metadata": {},
   "outputs": [],
   "source": []
  },
  {
   "cell_type": "markdown",
   "id": "a1c75878",
   "metadata": {},
   "source": [
    "#### TNBC"
   ]
  },
  {
   "cell_type": "code",
   "execution_count": null,
   "id": "67d684ad",
   "metadata": {},
   "outputs": [],
   "source": [
    "adata = sc.read(\"/media/dbdimitrov/SSDDimitrov/Repos/liana2/data/scop/brca_tnbc.h5ad\")"
   ]
  },
  {
   "cell_type": "code",
   "execution_count": null,
   "id": "f00170af",
   "metadata": {},
   "outputs": [],
   "source": [
    "del adata.layers['logcounts']"
   ]
  },
  {
   "cell_type": "code",
   "execution_count": null,
   "id": "837557d7",
   "metadata": {},
   "outputs": [],
   "source": [
    "adata"
   ]
  },
  {
   "cell_type": "code",
   "execution_count": null,
   "id": "fae71ceb",
   "metadata": {},
   "outputs": [],
   "source": [
    "adata.write_h5ad(\"/home/dbdimitrov/Downloads/brca_tnbc.h5ad\")"
   ]
  },
  {
   "cell_type": "code",
   "execution_count": null,
   "id": "f52052e2",
   "metadata": {},
   "outputs": [],
   "source": []
  },
  {
   "cell_type": "code",
   "execution_count": null,
   "id": "a5326aa3",
   "metadata": {},
   "outputs": [],
   "source": []
  },
  {
   "cell_type": "markdown",
   "id": "1ae94d7d",
   "metadata": {},
   "source": [
    "### Test Data LOAD, norm!!!"
   ]
  },
  {
   "cell_type": "code",
   "execution_count": null,
   "id": "9d9eb42d",
   "metadata": {},
   "outputs": [],
   "source": []
  },
  {
   "cell_type": "markdown",
   "id": "3f6e84c2",
   "metadata": {},
   "source": [
    "##### BRAIN"
   ]
  },
  {
   "cell_type": "code",
   "execution_count": null,
   "id": "7718fb57",
   "metadata": {},
   "outputs": [],
   "source": [
    "from openproblems.data.allen_brain_atlas import load_mouse_brain_atlas"
   ]
  },
  {
   "cell_type": "code",
   "execution_count": null,
   "id": "9a61f789",
   "metadata": {},
   "outputs": [],
   "source": [
    "adata = load_mouse_brain_atlas(test=True)"
   ]
  },
  {
   "cell_type": "code",
   "execution_count": null,
   "id": "511ad079",
   "metadata": {},
   "outputs": [],
   "source": [
    "adata"
   ]
  },
  {
   "cell_type": "code",
   "execution_count": null,
   "id": "b90038cf",
   "metadata": {},
   "outputs": [],
   "source": []
  },
  {
   "cell_type": "code",
   "execution_count": null,
   "id": "9463aa20",
   "metadata": {},
   "outputs": [],
   "source": []
  },
  {
   "cell_type": "markdown",
   "id": "b23b6129",
   "metadata": {},
   "source": [
    "##### TNBC"
   ]
  },
  {
   "cell_type": "code",
   "execution_count": 1,
   "id": "1da58d06",
   "metadata": {},
   "outputs": [
    {
     "data": {
      "text/plain": [
       "AnnData object with n_obs × n_vars = 500 × 43\n",
       "    obs: 'label', 'sizeFactor', 'celltype_minor', 'n_counts'\n",
       "    var: 'n_cells'\n",
       "    uns: 'bench', 'celltype_major', 'celltype_subset', 'nCount_RNA', 'nFeature_RNA', 'orig.ident', 'percent.mito', 'subtype', 'target_organism', '_from_cache'\n",
       "    layers: 'counts'"
      ]
     },
     "execution_count": 1,
     "metadata": {},
     "output_type": "execute_result"
    }
   ],
   "source": [
    "from openproblems.data.tnbc_wu2021 import load_tnbc_data\n",
    "adata = load_tnbc_data(test=True)\n",
    "adata"
   ]
  },
  {
   "cell_type": "code",
   "execution_count": null,
   "id": "762c498d",
   "metadata": {},
   "outputs": [],
   "source": []
  },
  {
   "cell_type": "code",
   "execution_count": null,
   "id": "d28cccde",
   "metadata": {},
   "outputs": [],
   "source": []
  },
  {
   "cell_type": "markdown",
   "id": "704c963c",
   "metadata": {},
   "source": [
    "Normalize internally in op"
   ]
  },
  {
   "cell_type": "code",
   "execution_count": null,
   "id": "5047ee4d",
   "metadata": {},
   "outputs": [],
   "source": [
    "from openproblems.tools.normalize import log_cpm"
   ]
  },
  {
   "cell_type": "code",
   "execution_count": null,
   "id": "fc761614",
   "metadata": {},
   "outputs": [],
   "source": [
    "adata = log_cpm(adata)\n",
    "adata.layers['logcounts'] = adata.layers['log_cpm']\n",
    "del adata.layers['log_cpm']"
   ]
  },
  {
   "cell_type": "code",
   "execution_count": null,
   "id": "66db46e5",
   "metadata": {},
   "outputs": [],
   "source": []
  },
  {
   "cell_type": "code",
   "execution_count": null,
   "id": "aaef9c6f",
   "metadata": {},
   "outputs": [],
   "source": [
    "adata"
   ]
  },
  {
   "cell_type": "code",
   "execution_count": null,
   "id": "85d76471",
   "metadata": {},
   "outputs": [],
   "source": []
  },
  {
   "cell_type": "code",
   "execution_count": null,
   "id": "6cd3d91c",
   "metadata": {},
   "outputs": [],
   "source": []
  },
  {
   "cell_type": "code",
   "execution_count": null,
   "id": "c8f93cb6",
   "metadata": {},
   "outputs": [],
   "source": []
  },
  {
   "cell_type": "markdown",
   "id": "feb21391",
   "metadata": {},
   "source": [
    "#### TEST method + metric!!!!"
   ]
  },
  {
   "cell_type": "markdown",
   "id": "8086a130",
   "metadata": {},
   "source": [
    "### RUN LIANA"
   ]
  },
  {
   "cell_type": "code",
   "execution_count": null,
   "id": "e91788ee",
   "metadata": {},
   "outputs": [],
   "source": [
    "import anndata2ri\n",
    "anndata2ri.activate()\n",
    "%load_ext rpy2.ipython"
   ]
  },
  {
   "cell_type": "code",
   "execution_count": null,
   "id": "854421d3",
   "metadata": {},
   "outputs": [],
   "source": [
    "%%R -i adata -o adata\n",
    "library(tidyverse)\n",
    "library(liana)\n",
    "\n",
    "method = \"natmi\"\n",
    "\n",
    "adata@assays@data$counts <- as(as.matrix(adata@assays@data$logcounts), \"sparseMatrix\")\n",
    "adata@assays@data$logcounts <- as(as.matrix(adata@assays@data$counts), \"sparseMatrix\")\n",
    "\n",
    "\n",
    "# Here, we will convert LIANA's Consensus resource to murine symbols\n",
    "op_resource <- select_resource(\"Consensus\")[[1]]\n",
    "\n",
    "# Check if the target organism is human\n",
    "if(adata@metadata$target_organism!=9606){\n",
    "    # Generate orthologous resource\n",
    "    op_resource <- generate_homologs(op_resource = op_resource,\n",
    "                                     target_organism = adata@metadata$target_organism)\n",
    "}\n",
    "\n",
    "\n",
    "# Run LIANA\n",
    "adata@metadata$ccc = liana_wrap(adata,\n",
    "                                resource = 'custom',\n",
    "                                external_resource = op_resource,\n",
    "                                method=method,\n",
    "                                expr_prop = 0.1,\n",
    "                                idents_col = \"label\"\n",
    "                                ) %>%\n",
    "    # DEAL WITH THIS AT A PER-METHOD BASIS (in R again) ^ code above is shared for all methods\n",
    "    mutate(score := .data[[liana:::.score_specs()[[method]]@method_score]]) %>%\n",
    "    arrange(desc(score))"
   ]
  },
  {
   "cell_type": "code",
   "execution_count": null,
   "id": "c451122c",
   "metadata": {},
   "outputs": [],
   "source": []
  },
  {
   "cell_type": "code",
   "execution_count": null,
   "id": "2efe2d4d",
   "metadata": {},
   "outputs": [],
   "source": []
  },
  {
   "cell_type": "code",
   "execution_count": null,
   "id": "e585f73c",
   "metadata": {},
   "outputs": [],
   "source": [
    "# Merge liana's results with the truth\n",
    "gt = adata.uns[\"bench\"].merge(adata.uns[\"ccc\"], how='right')\n",
    "adata.uns[\"truth\"] = gt[gt['response'].notna()]"
   ]
  },
  {
   "cell_type": "code",
   "execution_count": null,
   "id": "6d4eb60c",
   "metadata": {},
   "outputs": [],
   "source": [
    "adata.uns[\"truth\"]"
   ]
  },
  {
   "cell_type": "code",
   "execution_count": null,
   "id": "c18b2d53",
   "metadata": {},
   "outputs": [],
   "source": []
  },
  {
   "cell_type": "code",
   "execution_count": null,
   "id": "ff00ed25",
   "metadata": {},
   "outputs": [],
   "source": [
    "odds_ratio(adata, top_n=1)"
   ]
  },
  {
   "cell_type": "code",
   "execution_count": null,
   "id": "2671df20",
   "metadata": {},
   "outputs": [],
   "source": [
    "odds_ratio"
   ]
  },
  {
   "cell_type": "code",
   "execution_count": null,
   "id": "09a4cc9b",
   "metadata": {},
   "outputs": [],
   "source": []
  },
  {
   "cell_type": "code",
   "execution_count": null,
   "id": "be439b5b",
   "metadata": {},
   "outputs": [],
   "source": [
    "import inspect\n",
    "lines = inspect.getsource(odds_ratio)\n",
    "print(lines)\n"
   ]
  },
  {
   "cell_type": "code",
   "execution_count": null,
   "id": "ffaf0a6c",
   "metadata": {},
   "outputs": [],
   "source": [
    "\"ccc\" in adata.uns"
   ]
  },
  {
   "cell_type": "code",
   "execution_count": null,
   "id": "001b03d2",
   "metadata": {},
   "outputs": [],
   "source": [
    "all( adata.uns[\"ccc\"]"
   ]
  },
  {
   "cell_type": "code",
   "execution_count": null,
   "id": "73bcc95a",
   "metadata": {},
   "outputs": [],
   "source": []
  },
  {
   "cell_type": "code",
   "execution_count": null,
   "id": "061a8c1f",
   "metadata": {},
   "outputs": [],
   "source": [
    "set(adata.uns[\"ccc\"])"
   ]
  },
  {
   "cell_type": "code",
   "execution_count": null,
   "id": "c55589e0",
   "metadata": {},
   "outputs": [],
   "source": []
  },
  {
   "cell_type": "code",
   "execution_count": null,
   "id": "75ce2c83",
   "metadata": {},
   "outputs": [],
   "source": [
    "\"response\" in adata.uns[\"bench\"]"
   ]
  },
  {
   "cell_type": "code",
   "execution_count": null,
   "id": "4edf84bd",
   "metadata": {},
   "outputs": [],
   "source": []
  },
  {
   "cell_type": "code",
   "execution_count": null,
   "id": "9423e4d8",
   "metadata": {},
   "outputs": [],
   "source": []
  },
  {
   "cell_type": "code",
   "execution_count": null,
   "id": "67aafdbb",
   "metadata": {},
   "outputs": [],
   "source": []
  },
  {
   "cell_type": "markdown",
   "id": "517088a3",
   "metadata": {},
   "source": [
    "### Create Sample dataset"
   ]
  },
  {
   "cell_type": "code",
   "execution_count": null,
   "id": "a8d01385",
   "metadata": {},
   "outputs": [],
   "source": [
    "from openproblems.data.sample import load_sample_data"
   ]
  },
  {
   "cell_type": "code",
   "execution_count": null,
   "id": "cf11bd97",
   "metadata": {},
   "outputs": [],
   "source": [
    "adata = load_sample_data()"
   ]
  },
  {
   "cell_type": "markdown",
   "id": "ffa229e6",
   "metadata": {},
   "source": [
    "Modify sample data to required input"
   ]
  },
  {
   "cell_type": "code",
   "execution_count": null,
   "id": "f65d33bf",
   "metadata": {},
   "outputs": [],
   "source": []
  },
  {
   "cell_type": "code",
   "execution_count": null,
   "id": "85d3a4c6",
   "metadata": {},
   "outputs": [],
   "source": []
  },
  {
   "cell_type": "code",
   "execution_count": null,
   "id": "74660975",
   "metadata": {},
   "outputs": [],
   "source": [
    "# keep only the top 10 most variable\n",
    "sc.pp.highly_variable_genes(adata, n_top_genes=10)\n",
    "adata = adata[:,adata.var['highly_variable']]\n",
    "# assign names to known interactions\n",
    "adata.var.index = ['LGALS9', 'PTPRC',\n",
    "                   'LRP1', 'CD47',\n",
    "                   'CD44', 'COL1A1',\n",
    "                   'ADAM10', 'SIRPA',\n",
    "                  'COL4A1', 'THBS2']\n",
    "# transfer label\n",
    "adata.obs[\"label\"] = adata.obs.cell_name\n",
    "\n",
    "# assign to human prior knowledge\n",
    "adata.uns[\"target_organism\"] = 9606"
   ]
  },
  {
   "cell_type": "code",
   "execution_count": null,
   "id": "9829b6fb",
   "metadata": {},
   "outputs": [],
   "source": []
  },
  {
   "cell_type": "code",
   "execution_count": null,
   "id": "5b6a0258",
   "metadata": {},
   "outputs": [],
   "source": []
  },
  {
   "cell_type": "code",
   "execution_count": null,
   "id": "03e6aad8",
   "metadata": {},
   "outputs": [],
   "source": []
  },
  {
   "cell_type": "code",
   "execution_count": null,
   "id": "2cfb4894",
   "metadata": {},
   "outputs": [],
   "source": [
    "adata = log_cpm(adata)\n",
    "adata.layers['logcounts'] = adata.layers['log_cpm']\n",
    "del adata.layers['log_cpm']"
   ]
  },
  {
   "cell_type": "code",
   "execution_count": null,
   "id": "5bba57f1",
   "metadata": {},
   "outputs": [],
   "source": []
  },
  {
   "cell_type": "code",
   "execution_count": null,
   "id": "5ac40a17",
   "metadata": {},
   "outputs": [],
   "source": [
    "adata.uns['ccc']"
   ]
  },
  {
   "cell_type": "code",
   "execution_count": null,
   "id": "88be931c",
   "metadata": {},
   "outputs": [],
   "source": []
  },
  {
   "cell_type": "code",
   "execution_count": null,
   "id": "b3423d42",
   "metadata": {},
   "outputs": [],
   "source": [
    "method_sample = pd.DataFrame(rng.integers(0, 100, size=(100, 4)), columns=list('ABCD'))"
   ]
  },
  {
   "cell_type": "code",
   "execution_count": null,
   "id": "949fa4fb",
   "metadata": {},
   "outputs": [],
   "source": [
    "import pandas as pd\n",
    "import random"
   ]
  },
  {
   "cell_type": "code",
   "execution_count": null,
   "id": "e38a6100",
   "metadata": {},
   "outputs": [],
   "source": [
    "?random.sample"
   ]
  },
  {
   "cell_type": "code",
   "execution_count": null,
   "id": "b4505d36",
   "metadata": {},
   "outputs": [],
   "source": []
  },
  {
   "cell_type": "code",
   "execution_count": null,
   "id": "b4d03767",
   "metadata": {},
   "outputs": [],
   "source": []
  },
  {
   "cell_type": "code",
   "execution_count": null,
   "id": "3a3c4893",
   "metadata": {},
   "outputs": [],
   "source": []
  },
  {
   "cell_type": "code",
   "execution_count": null,
   "id": "6bd76286",
   "metadata": {},
   "outputs": [],
   "source": [
    "df"
   ]
  },
  {
   "cell_type": "code",
   "execution_count": null,
   "id": "e84f1579",
   "metadata": {},
   "outputs": [],
   "source": []
  },
  {
   "cell_type": "code",
   "execution_count": null,
   "id": "c5e48798",
   "metadata": {},
   "outputs": [],
   "source": []
  },
  {
   "cell_type": "code",
   "execution_count": null,
   "id": "6a3a7a3f",
   "metadata": {},
   "outputs": [],
   "source": []
  },
  {
   "cell_type": "code",
   "execution_count": null,
   "id": "17ca6e65",
   "metadata": {},
   "outputs": [],
   "source": []
  },
  {
   "cell_type": "code",
   "execution_count": null,
   "id": "165ec863",
   "metadata": {},
   "outputs": [],
   "source": []
  },
  {
   "cell_type": "code",
   "execution_count": null,
   "id": "f78864e2",
   "metadata": {},
   "outputs": [],
   "source": []
  },
  {
   "cell_type": "code",
   "execution_count": null,
   "id": "f3910815",
   "metadata": {},
   "outputs": [],
   "source": []
  },
  {
   "cell_type": "code",
   "execution_count": null,
   "id": "5d8e9506",
   "metadata": {},
   "outputs": [],
   "source": []
  },
  {
   "cell_type": "code",
   "execution_count": null,
   "id": "f6969871",
   "metadata": {},
   "outputs": [],
   "source": []
  },
  {
   "cell_type": "code",
   "execution_count": null,
   "id": "d7906113",
   "metadata": {},
   "outputs": [],
   "source": []
  },
  {
   "cell_type": "code",
   "execution_count": null,
   "id": "82c129a3",
   "metadata": {},
   "outputs": [],
   "source": []
  },
  {
   "cell_type": "code",
   "execution_count": null,
   "id": "687172d3",
   "metadata": {},
   "outputs": [],
   "source": []
  },
  {
   "cell_type": "code",
   "execution_count": null,
   "id": "0e19c610",
   "metadata": {},
   "outputs": [],
   "source": [
    "df['NEW'] = pd.Series(pd.util.testing.rands(3), index=df.index)"
   ]
  },
  {
   "cell_type": "code",
   "execution_count": null,
   "id": "8cbd2e9d",
   "metadata": {},
   "outputs": [],
   "source": [
    "df"
   ]
  },
  {
   "cell_type": "code",
   "execution_count": null,
   "id": "46bcebc2",
   "metadata": {},
   "outputs": [],
   "source": [
    "num_rows = 10\n",
    "\n",
    "data = np.array([id_generator() for i in range(2*num_rows)]).reshape(-1,2)\n",
    "pd.DataFrame(data)\n"
   ]
  },
  {
   "cell_type": "code",
   "execution_count": null,
   "id": "127e4454",
   "metadata": {},
   "outputs": [],
   "source": []
  },
  {
   "cell_type": "code",
   "execution_count": null,
   "id": "69c9cea9",
   "metadata": {},
   "outputs": [],
   "source": []
  },
  {
   "cell_type": "markdown",
   "id": "c0197ec2",
   "metadata": {},
   "source": [
    "Test tests"
   ]
  },
  {
   "cell_type": "code",
   "execution_count": 6,
   "id": "66b2cefe",
   "metadata": {},
   "outputs": [],
   "source": [
    "from openproblems.tasks.cell_cell_communication.api import check_dataset, sample_dataset, sample_method, check_method"
   ]
  },
  {
   "cell_type": "code",
   "execution_count": 7,
   "id": "68f95348",
   "metadata": {},
   "outputs": [
    {
     "name": "stderr",
     "output_type": "stream",
     "text": [
      "/home/dbdimitrov/Repos/openproblems/openproblems/data/sample.py:23: FutureWarning: X.dtype being converted to np.float32 from int64. In the next version of anndata (0.9) conversion will not be automatic. Pass dtype explicitly to avoid this warning. Pass `AnnData(X, dtype=X.dtype, ...)` to get the future behavour.\n",
      "  adata = anndata.AnnData(rna_data, obs=cells, var=genes)\n",
      "/home/dbdimitrov/Repos/openproblems/openproblems/tasks/cell_cell_communication/api.py:47: ImplicitModificationWarning: Trying to modify attribute `.obs` of view, initializing view as actual.\n",
      "  adata.obs[\"label\"] = adata.obs.cell_name\n",
      "/home/dbdimitrov/anaconda3/lib/python3.8/contextlib.py:120: FutureWarning: X.dtype being converted to np.float32 from float64. In the next version of anndata (0.9) conversion will not be automatic. Pass dtype explicitly to avoid this warning. Pass `AnnData(X, dtype=X.dtype, ...)` to get the future behavour.\n",
      "  next(self.gen)\n"
     ]
    }
   ],
   "source": [
    "adata = sample_dataset()"
   ]
  },
  {
   "cell_type": "code",
   "execution_count": 8,
   "id": "6dec263e",
   "metadata": {},
   "outputs": [
    {
     "data": {
      "text/plain": [
       "True"
      ]
     },
     "execution_count": 8,
     "metadata": {},
     "output_type": "execute_result"
    }
   ],
   "source": [
    "check_dataset(adata)"
   ]
  },
  {
   "cell_type": "code",
   "execution_count": null,
   "id": "a63d2d5f",
   "metadata": {},
   "outputs": [],
   "source": []
  },
  {
   "cell_type": "code",
   "execution_count": null,
   "id": "52cce9cc",
   "metadata": {},
   "outputs": [],
   "source": []
  },
  {
   "cell_type": "code",
   "execution_count": null,
   "id": "d9909c4a",
   "metadata": {},
   "outputs": [],
   "source": []
  },
  {
   "cell_type": "code",
   "execution_count": null,
   "id": "fbee52af",
   "metadata": {},
   "outputs": [],
   "source": []
  }
 ],
 "metadata": {
  "kernelspec": {
   "display_name": "liana4.1",
   "language": "python",
   "name": "liana4.1"
  },
  "language_info": {
   "codemirror_mode": {
    "name": "ipython",
    "version": 3
   },
   "file_extension": ".py",
   "mimetype": "text/x-python",
   "name": "python",
   "nbconvert_exporter": "python",
   "pygments_lexer": "ipython3",
   "version": "3.8.3"
  }
 },
 "nbformat": 4,
 "nbformat_minor": 5
}
